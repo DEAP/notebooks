{
 "metadata": {
  "name": "OneMax"
 },
 "nbformat": 3,
 "nbformat_minor": 0,
 "worksheets": [
  {
   "cells": [
    {
     "cell_type": "markdown",
     "metadata": {},
     "source": [
      "# OneMax Problem\n",
      "The problem is very simple, we search for a 1 filled solution. This notebook will cover creating a program to evolve a solution to this problem as well as go a little more in detail on the step of the algorithm.\n",
      "\n",
      "## Imports\n",
      "We first get the required modules for our evolution.\n",
      "\n",
      "- `random` gives us a way to generate random bits;\n",
      "- `base` gives us access to the Toolbox and base Fitness;\n",
      "- `creator` allows us to create our types;\n",
      "- `tools` grants us access to the operators bank;\n",
      "- `algorithms` enables us some ready generic evolutionary loops."
     ]
    },
    {
     "cell_type": "code",
     "collapsed": false,
     "input": [
      "import random\n",
      "from deap import base, creator, tools, algorithms"
     ],
     "language": "python",
     "metadata": {},
     "outputs": [],
     "prompt_number": 1
    },
    {
     "cell_type": "markdown",
     "metadata": {},
     "source": [
      "## Type Creation\n",
      "First step with DEAP is to create the required types. Usually the types created are the fitness and the individual. For the OneMax problem, we want to have a solution with as many ones as possible. Thus we need a maximizing fitness and a individual that is a sorted container, we'll choose the standard `list`.\n",
      "\n",
      "Type creation is done by calling the function `create` in the creator module. This function takes two mandatory arguments and additional optional arguments. The first argument is the actual name of the type that we want to create. The second argument is the base classe that the new type created should inherit from. Finally, the optional arguments are members to add to the new type."
     ]
    },
    {
     "cell_type": "code",
     "collapsed": false,
     "input": [
      "creator.create(\"FitnessMax\", base.Fitness, weights=(1.0,))\n",
      "creator.create(\"Individual\", list, fitness=creator.FitnessMax)"
     ],
     "language": "python",
     "metadata": {},
     "outputs": [],
     "prompt_number": 2
    },
    {
     "cell_type": "markdown",
     "metadata": {},
     "source": [
      "The first line creates a maximizing fitness by replacing, in the base type Fitness, the pure virtual weights attribute by (1.0,) that means to maximize a single objective fitness. The second line creates an Individual class that inherits the properties of list and has a fitness attribute of the type FitnessMax that was just created.\n",
      "\n",
      "Single objective is considered by DEAP the same way a multi objective function would but with a single value. The weights (as well as the returned value from the evaluation) are **always required** to be iterable.\n",
      "\n",
      "The created classes are made available in the creator module. We can instantiate directly objects of the created class like follow. This step is not required in an algorithm, the instatiation will be automated later."
     ]
    },
    {
     "cell_type": "code",
     "collapsed": false,
     "input": [
      "ind = creator.Individual([1, 0, 1, 1, 0])\n",
      "\n",
      "print(ind)\n",
      "print(type(ind))\n",
      "print(type(ind.fitness))"
     ],
     "language": "python",
     "metadata": {},
     "outputs": [
      {
       "output_type": "stream",
       "stream": "stdout",
       "text": [
        "[1, 0, 1, 1, 0]\n",
        "<class 'deap.creator.Individual'>\n",
        "<class 'deap.creator.FitnessMax'>\n"
       ]
      }
     ],
     "prompt_number": 3
    },
    {
     "cell_type": "markdown",
     "metadata": {},
     "source": [
      "## Toolbox\n",
      "The toolbox is intended to store functions with their arguments under standard aliases for uses in algorithms. Functions are registered by a function call with two mandatory arguments, the alias to give to the function and the function it will be associate with. Any additional argument will be given as argument when the alias is called."
     ]
    },
    {
     "cell_type": "code",
     "collapsed": false,
     "input": [
      "toolbox = base.Toolbox()\n",
      "toolbox.register(\"attr_bool\", random.randint, 0, 1)\n",
      "toolbox.register(\"individual\", tools.initRepeat, creator.Individual, toolbox.attr_bool, n=10)\n",
      "toolbox.register(\"population\", tools.initRepeat, list, toolbox.individual)"
     ],
     "language": "python",
     "metadata": {},
     "outputs": [],
     "prompt_number": 4
    },
    {
     "cell_type": "markdown",
     "metadata": {},
     "source": [
      "In the last block of code we created a toolbox object and registered three functions. This first one, `attr_bool`, calls randint from the random module with arguments (0, 1) to create an integer in the interval $[0, 1]$. The second function, `individual`, when called, will use the initRepeat function made available in the tools module to fill an `Individual` class with what is produced by 100 calls to the previously defined `attr_bool` function. The same thing is done for the `population` function.\n",
      "\n",
      "For example, calling every function individualy shows how it proceeds."
     ]
    },
    {
     "cell_type": "code",
     "collapsed": false,
     "input": [
      "bit = toolbox.attr_bool()\n",
      "ind = toolbox.individual()\n",
      "pop = toolbox.population(n=3)\n",
      "\n",
      "print(\"bit is of type %s and has value\\n%s\" % (type(bit), bit))\n",
      "print(\"ind is of type %s and contains %d bits\\n%s\" % (type(ind), len(ind), ind))\n",
      "print(\"pop is of type %s and contains %d individuals\\n%s\" % (type(pop), len(pop), pop))"
     ],
     "language": "python",
     "metadata": {},
     "outputs": [
      {
       "output_type": "stream",
       "stream": "stdout",
       "text": [
        "bit is of type <type 'int'> and has value\n",
        "0\n",
        "ind is of type <class 'deap.creator.Individual'> and contains 10 bits\n",
        "[1, 0, 0, 0, 0, 1, 0, 0, 0, 1]\n",
        "pop is of type <type 'list'> and contains 3 individuals\n",
        "[[0, 1, 0, 0, 1, 0, 0, 0, 0, 0], [1, 0, 0, 1, 1, 0, 1, 0, 1, 1], [0, 1, 1, 0, 1, 0, 1, 0, 1, 0]]\n"
       ]
      }
     ],
     "prompt_number": 5
    },
    {
     "cell_type": "markdown",
     "metadata": {},
     "source": [
      "## Evaluation Function\n",
      "The evaluation function is pretty simple for the OneMax problem, we need to count the number of ones in an individual. We recall here that the returned value must be an iterable of length equal to the number of objectives (weights)."
     ]
    },
    {
     "cell_type": "code",
     "collapsed": false,
     "input": [
      "def evalOneMax(individual):\n",
      "    return sum(individual),"
     ],
     "language": "python",
     "metadata": {},
     "outputs": [],
     "prompt_number": 6
    },
    {
     "cell_type": "markdown",
     "metadata": {},
     "source": [
      "## Genetic Operators\n",
      "Registering the operators and their default arguments in the toolbox is done as follow."
     ]
    },
    {
     "cell_type": "code",
     "collapsed": false,
     "input": [
      "toolbox.register(\"evaluate\", evalOneMax)\n",
      "toolbox.register(\"mate\", tools.cxTwoPoints)\n",
      "toolbox.register(\"mutate\", tools.mutFlipBit, indpb=0.10)\n",
      "toolbox.register(\"select\", tools.selTournament, tournsize=3)"
     ],
     "language": "python",
     "metadata": {},
     "outputs": [],
     "prompt_number": 7
    },
    {
     "cell_type": "markdown",
     "metadata": {},
     "source": [
      "The evaluation is given the alias `evaluate`. Having a single argument being the individual to evaluate we don\u2019t need to fix any, the individual will be given later in the algorithm. The two points crossover function is registered the same way under the alias `mate`. The mutation, for its part, needs an argument to be fixed (the independent probability of each attribute to be mutated `indpb`). In the algorithms the `mutate()` function is called with the signature `toolbox.mutate(mutant)`. This is the most convenient way because each mutation takes a different number of arguments, having those arguments fixed in the toolbox leave open most of the possibilities to change the mutation (crossover, selection, or evaluation) operator later in your researches. Finaly, the selection operator is registered under the name `select` and the size of the tournament set to 3.\n",
      "\n",
      "We can for example mutate an individual and expect 10% of its attributes to be flipped."
     ]
    },
    {
     "cell_type": "code",
     "collapsed": false,
     "input": [
      "ind = toolbox.individual()\n",
      "print(ind)\n",
      "toolbox.mutate(ind)\n",
      "print(ind)"
     ],
     "language": "python",
     "metadata": {},
     "outputs": [
      {
       "output_type": "stream",
       "stream": "stdout",
       "text": [
        "[0, 1, 0, 0, 1, 0, 1, 1, 1, 0]\n",
        "[0, 1, 0, 0, 1, 0, 1, 1, 1, 1]\n"
       ]
      }
     ],
     "prompt_number": 8
    },
    {
     "cell_type": "markdown",
     "metadata": {},
     "source": [
      "The operators execute their behaviour on the individuals in place, meaning that if the individual is not copied before modified the old individual is lost. Copying an individual is done with the `clone` function available in every toolbox."
     ]
    },
    {
     "cell_type": "code",
     "collapsed": false,
     "input": [
      "mutant = toolbox.clone(ind)\n",
      "print(mutant is ind)\n",
      "print(mutant == ind)"
     ],
     "language": "python",
     "metadata": {},
     "outputs": [
      {
       "output_type": "stream",
       "stream": "stdout",
       "text": [
        "False\n",
        "True\n"
       ]
      }
     ],
     "prompt_number": 9
    },
    {
     "cell_type": "markdown",
     "metadata": {},
     "source": [
      "## Evolving the Population\n",
      "The main program shall be defined in a main function. All previous declarations are put in the global scope of the module to make created objects available for further use in other user experiments.\n",
      "\n",
      "The main program is very simple. It consists of generating a population, and giving it to the algorithm for it to evolve a solution. Here we will employ some helpfull introspection tools such as Statistics and a Hall of Fame. The statistics are computed using `numpy` functions on the population, and the hall of fame keeps track of the best individuals that ever appeared during the evolution. The algorithm take as arguments, among other, the population and the toolbox. Once the evolution is finished the population contains the individuals from the last generation."
     ]
    },
    {
     "cell_type": "code",
     "collapsed": false,
     "input": [
      "def main():\n",
      "    import numpy\n",
      "    \n",
      "    pop = toolbox.population(n=50)\n",
      "    hof = tools.HallOfFame(1)\n",
      "    stats = tools.Statistics(lambda ind: ind.fitness.values)\n",
      "    stats.register(\"avg\", numpy.mean)\n",
      "    stats.register(\"std\", numpy.std)\n",
      "    stats.register(\"min\", numpy.min)\n",
      "    stats.register(\"max\", numpy.max)\n",
      "    stats.header = \"gen\", \"evals\", \"min\", \"avg\", \"max\"\n",
      "    \n",
      "    algorithms.eaSimple(pop, toolbox, cxpb=0.5, mutpb=0.2, ngen=10, stats=stats, halloffame=hof, verbose=True)\n",
      "    \n",
      "    return pop, stats, hof"
     ],
     "language": "python",
     "metadata": {},
     "outputs": [],
     "prompt_number": 10
    },
    {
     "cell_type": "markdown",
     "metadata": {},
     "source": [
      "Next, we protect our call to the main function and launch the evolution, the verbose argument tell to output the stats on every generations. We can print and plot the data returned. "
     ]
    },
    {
     "cell_type": "code",
     "collapsed": false,
     "input": [
      "if __name__ == \"__main__\":\n",
      "    pop, stats, hof = main()\n",
      "    print(\"Best individual is: %s\\nwith fitness: %s\" % (hof[0], hof[0].fitness))\n",
      "    \n",
      "    import matplotlib.pyplot as plt\n",
      "    gen, avg, min_, max_ = stats.select(\"gen\", \"avg\", \"min\", \"max\")\n",
      "    plt.plot(gen, avg, label=\"average\")\n",
      "    plt.plot(gen, min_, label=\"minimum\")\n",
      "    plt.plot(gen, max_, label=\"maximum\")\n",
      "    plt.xlabel(\"Generation\")\n",
      "    plt.ylabel(\"Fitness\")\n",
      "    plt.legend(loc=\"lower right\")"
     ],
     "language": "python",
     "metadata": {},
     "outputs": [
      {
       "output_type": "stream",
       "stream": "stdout",
       "text": [
        "gen\tevals\tmin\tavg \tmax\n",
        "0  \t50   \t1  \t4.96\t8  \n",
        "1  \t25   \t3  \t6.18\t9  "
       ]
      },
      {
       "output_type": "stream",
       "stream": "stdout",
       "text": [
        "\n",
        "2  \t28   \t5  \t7.08\t9  \n",
        "3  \t32   \t6  \t7.66\t9  \n",
        "4  \t24   \t6  \t8.22\t10 \n",
        "5  \t25   \t6  \t8.62\t10 "
       ]
      },
      {
       "output_type": "stream",
       "stream": "stdout",
       "text": [
        "\n",
        "6  \t30   \t7  \t9.08\t10 \n",
        "7  \t25   \t7  \t9.28\t10 \n",
        "8  \t31   \t7  \t9.74\t10 "
       ]
      },
      {
       "output_type": "stream",
       "stream": "stdout",
       "text": [
        "\n",
        "9  \t28   \t8  \t9.86\t10 \n",
        "10 \t33   \t8  \t9.76\t10 \n",
        "Best individual is: [1, 1, 1, 1, 1, 1, 1, 1, 1, 1]\n",
        "with fitness: (10.0,)\n"
       ]
      },
      {
       "output_type": "display_data",
       "png": "[encoded data removed]"
      }
     ],
     "prompt_number": 11
    }
   ],
   "metadata": {}
  }
 ]
}