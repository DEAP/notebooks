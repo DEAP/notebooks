{
 "metadata": {
  "name": ""
 },
 "nbformat": 3,
 "nbformat_minor": 0,
 "worksheets": [
  {
   "cells": [
    {
     "cell_type": "markdown",
     "metadata": {},
     "source": [
      "#DEAP - Enabling Nimbler Evolutions\n",
      "by Fran\u00e7ois-Michel De Rainville, F\u00e9lix-Antoine Fortin, Marc-Andr\u00e9 Gardner, Marc Parizeau, and Christian Gagn\u00e9\n",
      "\n",
      "<img src=\"files/images/deap_highlights.png\" width=\"400px\" style=\"float:right;margin-left:50px;\"/>\n",
      "\n",
      "DEAP is a Distributed Evolutionary Algorithm (EA) framework written in Python and designed to help researchers developing custom evolutionary algorithms. Its design philosophy promotes explicit algorithms and transparent data structures, in contrast with most other evolutionary computation softwares that tend to encapsulate standardized algorithms using the black-box approach. This philosophy sets it apart as a rapid prototyping framework for testing of new ideas in EA research.\n",
      "\n",
      "##Introduction\n",
      "\n",
      "The DEAP framework is designed over the three following founding principles:\n",
      "\n",
      "1. Data structures are key to evolutionary computation. They must facilitate the implementation of algorithms and be easy to customize.\n",
      "2. Operator selection and algorithm parameters have strong influences on evolutions, while often being problem dependent. Users should be able to parametrize every aspect of the algorithms with minimal complexity.\n",
      "3. EAs are usually embarrassingly parallel. Therefore, mechanisms that implement distribution paradigms should be trivial to use.\n",
      "\n",
      "With the help of its sister project [SCOOP](http://www.pyscoop.org) and the power of the Python programming language, DEAP implements these three principles in a simple and elegant design.\n",
      "\n",
      "###Data Structures\n",
      "\n",
      "A very important part of the success for designing any algorithm - if not the most important - is choosing the appropriate data structures. Freedom in type creation is fundamental in the process of designing evolutionary algorithms that solve real world problems. DEAP's *creator* module allows to:\n",
      "\n",
      "- create classes with a single line of code (inheritance);\n",
      "- add attributes (composition);\n",
      "- group classes in a single module (sandboxing).\n",
      "\n",
      "In the following listing, we create a minimizing fitness.\n"
     ]
    },
    {
     "cell_type": "code",
     "collapsed": false,
     "input": [
      "from deap import base, creator\n",
      "creator.create(\"FitnessMin\", base.Fitness, weights=(-1.0,))"
     ],
     "language": "python",
     "metadata": {},
     "outputs": [],
     "prompt_number": 1
    },
    {
     "cell_type": "markdown",
     "metadata": {},
     "source": [
      "The `create` function expects at least two arguments; the name of the class to be created and the base class it inherits from. The next arguments are used as class attributes.\n",
      "Thus, the class just created is a `FitnessMin` inheriting from the base class `Fitness` and having a `weights` attribute set to the one element tuple `(-1.0,)`, indicating minimization of a single objective. Multi-objective fitnesses would be created using multi-element tuples.\n",
      "\n",
      "Next, we define with the same mechanism an `Individual` class inheriting from a `list` and composed with a `fitness` attribute."
     ]
    },
    {
     "cell_type": "code",
     "collapsed": false,
     "input": [
      "creator.create(\"Individual\", list, fitness=creator.FitnessMin)"
     ],
     "language": "python",
     "metadata": {},
     "outputs": [],
     "prompt_number": 2
    },
    {
     "cell_type": "markdown",
     "metadata": {},
     "source": [
      "When an `Individual` is instantiated, its `fitness` is initialized with an instance of the previously defined `FitnessMin` class. This is illustrated in the following example,"
     ]
    },
    {
     "cell_type": "code",
     "collapsed": false,
     "input": [
      "ind = creator.Individual([1,0,1,0,1])\n",
      "ind.fitness.values = (sum(ind),)"
     ],
     "language": "python",
     "metadata": {},
     "outputs": [],
     "prompt_number": 3
    },
    {
     "cell_type": "markdown",
     "metadata": {},
     "source": [
      "where an individual is created from a list of binary values and its fitness value is set to the sum of its elements.\n",
      "In DEAP, fitness values are always multi-objectives with the single objective case being a tuple of one element. This tuple is instantiated by the comma following the sum operation.\n",
      "\n",
      "###Operators\n",
      "\n",
      "Operator selection is another crucial part of evolutionary algorithms. It must be straightforward and its parametrization intuitive. DEAP's *Toolbox* enables users to:\n",
      "\n",
      "- create aliases for operators;\n",
      "- register operators' parameters;\n",
      "- interchange operators efficiently;\n",
      "- regroup all operators in a single structure.\n",
      "\n",
      "The next example presents the construction of a toolbox and how operators and their parameters are registered."
     ]
    },
    {
     "cell_type": "code",
     "collapsed": false,
     "input": [
      "from deap import tools\n",
      "toolbox = base.Toolbox()\n",
      "toolbox.register(\"mate\", tools.cxOnePoint)\n",
      "toolbox.register(\"mutate\", tools.mutGaussian, mu=0.0, std=1.0)"
     ],
     "language": "python",
     "metadata": {},
     "outputs": [],
     "prompt_number": 4
    },
    {
     "cell_type": "markdown",
     "metadata": {},
     "source": [
      "The `register` function expects at least two arguments; the alias of the function and the function itself. The next arguments are passed to the function when called, similarly to the partial function from the standard *functools* module. \n",
      "Thus, the first operator is a one point crossover registered under the alias `mate`. The second operator, a gaussian mutation, is registered with its parameters under the generic name `mutate`.  Both operators are available from the *tools* module along with many more instruments to support evolution presented at the end of this paper.\n",
      "\n",
      "During subsequent experiments, replacing the one point crossover by a two points crossover is as easy as substituting the third line of the previous listing by the following one."
     ]
    },
    {
     "cell_type": "code",
     "collapsed": false,
     "input": [
      "toolbox.register(\"mate\", tools.cxTwoPoints)"
     ],
     "language": "python",
     "metadata": {},
     "outputs": [],
     "prompt_number": 5
    },
    {
     "cell_type": "markdown",
     "metadata": {},
     "source": [
      "Wherever the generic function `mate` is used, the new two points crossover will be used.\n",
      "\n",
      "###Parallelization\n",
      "DEAP is parallel ready. The idea is to use a `map` operator that applies a function to every data item, for instance to evaluate the individuals fitness. By default, every toolbox is registered with the standard `map` function of Python. For algorithms to evaluate individuals in parallel, one only needs to replace this alias by a parallel map such as the one provided by [SCOOP](#scoop), a library capable of distributing tasks over a cluster of computers."
     ]
    },
    {
     "cell_type": "code",
     "collapsed": false,
     "input": [
      "from scoop import futures\n",
      "toolbox.register(\"map\", futures.map)"
     ],
     "language": "python",
     "metadata": {},
     "outputs": [],
     "prompt_number": 6
    },
    {
     "cell_type": "markdown",
     "metadata": {},
     "source": [
      "DEAP is also compatible with the *multiprocessing* standard module, if the user only cares to run on a single multicore machine."
     ]
    },
    {
     "cell_type": "code",
     "collapsed": false,
     "input": [
      "import multiprocessing\n",
      "pool = multiprocessing.Pool()\n",
      "toolbox.register(\"map\", pool.map)"
     ],
     "language": "python",
     "metadata": {},
     "outputs": [],
     "prompt_number": 7
    },
    {
     "cell_type": "markdown",
     "metadata": {},
     "source": [
      "With these powerful tools, DEAP allows scientists and researchers with little programming knowledge to easily implement distributed and parallel EAs."
     ]
    },
    {
     "cell_type": "markdown",
     "metadata": {},
     "source": [
      "##Preaching by Example\n",
      "\n",
      "The best introduction to evolutionary computation with DEAP is to present simple, yet compelling examples. The following sections set forth how algorithms are easy to implement while keeping a strong grip on how they behave. The first section introduces a classical genetic algorithm and exposes different levels of explicitness. The second section presents how genetic programming is implemented in DEAP and the versatility of the GP module. The final example demonstrate how easy it is to implement a generic distributed island model with SCOOP.\n",
      "\n",
      "###A Simple Genetic Algorithm\n",
      "A commonly used example in evolutionary computation is the OneMax problem which consists in maximizing the number of ones in a binary solution. The more ones an individual contains, the higher its fitness value is. Using a genetic algorithm to find such an individual is relatively straightforward. Applying crossovers and mutations on a population of randomly generated binary individuals and selecting the fittest ones at each generation usually lead quickly to a perfect (all ones) solution. A problem of this simplicity should be solved with a very simple program."
     ]
    },
    {
     "cell_type": "code",
     "collapsed": false,
     "input": [
      "import random\n",
      "from deap import algorithms, base, creator, tools\n",
      "\n",
      "creator.create(\"FitnessMax\", base.Fitness, weights=(1.0,))\n",
      "creator.create(\"Individual\", list, fitness=creator.FitnessMax)\n",
      "\n",
      "def evalOneMax(individual):\n",
      "    return (sum(individual),)\n",
      "\n",
      "toolbox = base.Toolbox()\n",
      "toolbox.register(\"attr_bool\", random.randint, 0, 1)\n",
      "toolbox.register(\"individual\", tools.initRepeat, creator.Individual, toolbox.attr_bool, n=100)\n",
      "toolbox.register(\"population\", tools.initRepeat, list, toolbox.individual)\n",
      "toolbox.register(\"evaluate\", evalOneMax)\n",
      "toolbox.register(\"mate\", tools.cxTwoPoints)\n",
      "toolbox.register(\"mutate\", tools.mutFlipBit, indpb=0.05)\n",
      "toolbox.register(\"select\", tools.selTournament, tournsize=3)\n",
      "\n",
      "if __name__ == \"__main__\":\n",
      "    pop = toolbox.population(n=300)\n",
      "    algorithms.eaSimple(pop, toolbox, cxpb=0.5, mutpb=0.2, ngen=40, verbose=False)\n",
      "    print(tools.selBest(pop, k=1))"
     ],
     "language": "python",
     "metadata": {},
     "outputs": [
      {
       "output_type": "stream",
       "stream": "stdout",
       "text": [
        "[[1, 1, 1, 1, 1, 1, 1, 1, 1, 1, 1, 1, 1, 1, 1, 1, 1, 1, 1, 1, 1, 1, 1, 1, 1, 1, 1, 1, 1, 1, 1, 1, 1, 1, 1, 1, 1, 1, 1, 1, 1, 1, 1, 1, 1, 1, 1, 1, 1, 1, 1, 1, 1, 1, 1, 1, 1, 1, 1, 1, 1, 1, 1, 1, 1, 1, 1, 1, 1, 1, 1, 1, 1, 1, 1, 1, 1, 1, 1, 1, 1, 1, 1, 1, 1, 1, 1, 1, 1, 1, 1, 1, 1, 1, 1, 1, 1, 1, 1, 1]]\n"
       ]
      }
     ],
     "prompt_number": 8
    },
    {
     "cell_type": "markdown",
     "metadata": {},
     "source": [
      "The preceeding code presents all that is needed to solve the OneMax problem with DEAP. The first two lines import the necessary modules. Next, on lines 3 and 4, two types are created; a maximizing fitness (note the positive weights), and a list individual composed with an instance of this maximizing fitness. Then, on lines 5 and 6, the evaluation function is defined. It counts the number of ones in a binary list by summing its elements (note again the one element returned tuple corresponding to a single objective fitness). Subsequently, a `Toolbox` is instantiated in which the necessary operators are registered. The first operator, on line 8, produces binary values, in this case integers in $[0, 1]$, using the standard *random* module. The alias `individual`, on line 9, is assigned to the helper function `initRepeat`, which takes a container as first argument, a function that generates content as second argument and the number of repetitions as last argument.\n",
      "Thus, calling the individual function instantiates an `Individual` of `n=100` bits by calling repeatedly the registered `attr\\_bool` function. The same repetition initializer is used on the next line to produce a population as a list of individuals. The missing number of repetition `n` will be given later in the program. Subsequently, on lines 11 to 14, the evaluation, crossover, mutation and selection operators are registered with all of their parameters.\n",
      "\n",
      "The main program starts at line 16. First, a population of `n=300` individuals is instantiated. Then, the algorithm, provided with the population and the toolbox, is run for `ngen=40` generations with `cxpb=0.5` probability of mating and `mutpb=0.2` probability of mutating an individual for each generation. Finally, on the last line, the best individual of the resulting population is selected and displayed on screen.\n",
      "\n",
      "###Controlling Everything\n",
      "When developing, researching or using EAs, pre-implemented canned algorithms seldom do everything that is needed. Usually, developers/researchers/users have to dig into the framework to tune, add or replace a part of the original algorithm. DEAP breaks with the traditional black-box approach on that precise point; it encourages users to rapidly build their own algorithms. With the different tools provided by DEAP, it is possible to design a nimble algorithm that tackles most problems at hand."
     ]
    },
    {
     "cell_type": "code",
     "collapsed": false,
     "input": [
      "import random\n",
      "from deap import algorithms, base, creator, tools\n",
      "\n",
      "creator.create(\"FitnessMax\", base.Fitness, weights=(1.0,))\n",
      "creator.create(\"Individual\", list, fitness=creator.FitnessMax)\n",
      "\n",
      "def evalOneMax(individual):\n",
      "    return (sum(individual),)\n",
      "\n",
      "toolbox = base.Toolbox()\n",
      "toolbox.register(\"attr_bool\", random.randint, 0, 1)\n",
      "toolbox.register(\"individual\", tools.initRepeat, creator.Individual, toolbox.attr_bool, n=100)\n",
      "toolbox.register(\"population\", tools.initRepeat, list, toolbox.individual)\n",
      "toolbox.register(\"evaluate\", evalOneMax)\n",
      "toolbox.register(\"mate\", tools.cxTwoPoints)\n",
      "toolbox.register(\"mutate\", tools.mutFlipBit, indpb=0.05)\n",
      "toolbox.register(\"select\", tools.selTournament, tournsize=3)\n",
      "\n",
      "if __name__ == \"__main__\":\n",
      "    pop = toolbox.population(n=300)\n",
      "    \n",
      "    ngen, cxpb, mutpb = 40, 0.5, 0.2\n",
      "    fitnesses = toolbox.map(toolbox.evaluate, pop)\n",
      "    for ind, fit in zip(pop, fitnesses):\n",
      "        ind.fitness.values = fit\n",
      "\n",
      "    for g in range(ngen):\n",
      "        pop = toolbox.select(pop, k=len(pop))\n",
      "        pop = algorithms.varAnd(pop, toolbox, cxpb, mutpb)\n",
      "        \n",
      "        invalids = [ind for ind in pop if not ind.fitness.valid]\n",
      "        fitnesses = toolbox.map(toolbox.evaluate, invalids)\n",
      "        for ind, fit in zip(invalids, fitnesses):\n",
      "            ind.fitness.values = fit\n",
      "    \n",
      "    print(tools.selBest(pop, k=1))"
     ],
     "language": "python",
     "metadata": {},
     "outputs": [
      {
       "output_type": "stream",
       "stream": "stdout",
       "text": [
        "[[1, 1, 1, 1, 1, 1, 1, 1, 1, 1, 1, 1, 1, 1, 1, 1, 1, 1, 1, 1, 1, 1, 1, 1, 1, 1, 1, 1, 1, 1, 1, 1, 1, 1, 1, 1, 1, 1, 1, 1, 1, 1, 1, 1, 1, 1, 1, 1, 1, 1, 1, 1, 1, 1, 1, 1, 1, 1, 1, 1, 1, 1, 1, 1, 1, 1, 1, 1, 1, 1, 1, 1, 1, 1, 1, 1, 1, 1, 1, 1, 1, 1, 1, 1, 1, 1, 1, 1, 1, 1, 1, 1, 1, 1, 1, 1, 1, 1, 1, 1]]\n"
       ]
      }
     ],
     "prompt_number": 9
    },
    {
     "cell_type": "markdown",
     "metadata": {},
     "source": [
      "Starting from the previous OneMax solution, a first decomposition of the algorithm replaces the canned `eaSimple` function by a generational loop. Again, this example is exhaustive but still very simple. On the first 3 lines, the evaluation is applied to every individual in the population by the `map` function contained in every toolbox. Next, a loop over both the population and the evaluated fitnesses sets each individual's fitness value. Thereafter, the generational loop begins. It starts by selecting `k` individuals from the population. Then, the selected individuals are varied by crossover **and** mutation by the `varAnd` function. A second variation  scheme `varOr` can also be used, where the individuals are produced by crossover **or** mutation. Once modified, the individuals are evaluated for the next iteration. Only freshly produced individuals have to be evaluated; they are filtered by their fitness validity. This version of the program provides the possibility to change the stopping criterion and add components to the evolution."
     ]
    },
    {
     "cell_type": "code",
     "collapsed": false,
     "input": [
      "import random, math\n",
      "from deap import algorithms, base, creator, tools\n",
      "\n",
      "creator.create(\"FitnessMax\", base.Fitness, weights=(1.0,))\n",
      "creator.create(\"Individual\", list, fitness=creator.FitnessMax)\n",
      "\n",
      "def evalOneMax(individual):\n",
      "    return (sum(individual),)\n",
      "\n",
      "toolbox = base.Toolbox()\n",
      "toolbox.register(\"attr_bool\", random.randint, 0, 1)\n",
      "toolbox.register(\"individual\", tools.initRepeat, creator.Individual, toolbox.attr_bool, n=100)\n",
      "toolbox.register(\"population\", tools.initRepeat, list, toolbox.individual)\n",
      "toolbox.register(\"evaluate\", evalOneMax)\n",
      "toolbox.register(\"mate\", tools.cxTwoPoints)\n",
      "toolbox.register(\"mutate\", tools.mutFlipBit, indpb=0.05)\n",
      "toolbox.register(\"select\", tools.selTournament, tournsize=3)\n",
      "\n",
      "if __name__ == \"__main__\":\n",
      "    pop = toolbox.population(n=300)\n",
      "    \n",
      "    ngen, cxpb, mutpb = 40, 0.5, 0.2\n",
      "    fitnesses = toolbox.map(toolbox.evaluate, pop)\n",
      "    for ind, fit in zip(pop, fitnesses):\n",
      "        ind.fitness.values = fit\n",
      "\n",
      "    for g in range(ngen):\n",
      "        pop = toolbox.select(pop, k=len(pop))\n",
      "        pop = [toolbox.clone(ind) for ind in pop]\n",
      "\n",
      "        for child1, child2 in zip(pop[::2], pop[1::2]):\n",
      "            if random.random() < cxpb:\n",
      "                toolbox.mate(child1, child2)\n",
      "                del child1.fitness.values, child2.fitness.values\n",
      "\n",
      "        for mutant in pop:\n",
      "            if random.random() < mutpb:\n",
      "                toolbox.mutate(mutant)\n",
      "                del mutant.fitness.values\n",
      "        \n",
      "        invalids = [ind for ind in pop if not ind.fitness.valid]\n",
      "        fitnesses = toolbox.map(toolbox.evaluate, invalids)\n",
      "        for ind, fit in zip(invalids, fitnesses):\n",
      "            ind.fitness.values = fit\n",
      "    \n",
      "    print(tools.selBest(pop, k=1))"
     ],
     "language": "python",
     "metadata": {},
     "outputs": [
      {
       "output_type": "stream",
       "stream": "stdout",
       "text": [
        "[[1, 1, 1, 1, 1, 1, 1, 1, 1, 1, 1, 1, 1, 1, 1, 1, 1, 1, 1, 1, 1, 1, 1, 1, 1, 1, 1, 1, 1, 1, 1, 1, 1, 1, 1, 1, 1, 1, 1, 1, 1, 1, 1, 1, 1, 1, 1, 1, 1, 1, 1, 1, 1, 1, 1, 1, 1, 1, 1, 1, 1, 1, 1, 1, 1, 1, 1, 1, 1, 1, 1, 1, 1, 1, 1, 1, 1, 1, 1, 1, 1, 1, 1, 1, 1, 1, 1, 1, 1, 1, 1, 1, 1, 1, 1, 1, 1, 1, 1, 1]]\n"
       ]
      }
     ],
     "prompt_number": 10
    },
    {
     "cell_type": "markdown",
     "metadata": {},
     "source": [
      "An even greater level of detail can be obtained by substituting the `varAnd` function by its full content, presented in last code example. This listing starts with the duplication of the population by the `clone` tool available in every toolbox. Then, the crossover is applied to a portion of consecutive individuals . Each modified individual sees its fitness invalidated by the deletion of its value. Finally, a percentage of the population is mutated and their fitness values is also deleted. This variant of the algorithm provides control over the application order and the number of operators, among many other aspects.\n",
      "\n",
      "The explicitness in which algorithm are written with DEAP clarifies the experiments. This eliminates any ambiguity on the different aspects of the algorithm that could, when overlooked, jeopardize the reproducibility and interpretation of results. With this level of details, users are provided with unprecedented agility in their research.\n",
      "\n",
      "###Genetic Programming\n",
      "DEAP also includes every component necessary to design genetic programming algorithms with the same ease as for genetic algorithms. For example, the most commonly used tree individual can be created as following."
     ]
    },
    {
     "cell_type": "code",
     "collapsed": false,
     "input": [
      "import operator, random\n",
      "from deap import algorithms, base, creator, tools, gp\n",
      "\n",
      "creator.create(\"FitnessMin\", base.Fitness, weights=(-1.0,))\n",
      "creator.create(\"Individual\", gp.PrimitiveTree, fitness=creator.FitnessMin)"
     ],
     "language": "python",
     "metadata": {},
     "outputs": [],
     "prompt_number": 11
    },
    {
     "cell_type": "markdown",
     "metadata": {},
     "source": [
      "The primitive tree is provided in the *gp* module since it is one of the few data types the Python standard library does not provide. The primitives and terminals that will populate the trees are regrouped in a primitive set. The following listing presents a primitive set instantiation with basic operators provided by the standard library *operator* module. The `arity` of a primitive is its number of operands."
     ]
    },
    {
     "cell_type": "code",
     "collapsed": false,
     "input": [
      "pset = gp.PrimitiveSet(name=\"MAIN\", arity=1)\n",
      "pset.addPrimitive(operator.add, arity=2)\n",
      "pset.addPrimitive(operator.sub, arity=2)\n",
      "pset.addPrimitive(operator.mul, arity=2)\n",
      "pset.addPrimitive(operator.neg, arity=1)\n",
      "pset.renameArguments(ARG0=\"x\")"
     ],
     "language": "python",
     "metadata": {},
     "outputs": [],
     "prompt_number": 12
    },
    {
     "cell_type": "markdown",
     "metadata": {},
     "source": [
      "Functions that initialize individuals and populations are registered in a toolbox just as in the preceding genetic algorithm example. DEAP implements the three initialization methods proposed by [Koza](#koza) to generate trees: full, grow, and ramped."
     ]
    },
    {
     "cell_type": "code",
     "collapsed": false,
     "input": [
      "toolbox = base.Toolbox()\n",
      "toolbox.register(\"expr\", gp.genFull, pset=pset, min_=1, max_=3)\n",
      "toolbox.register(\"individual\", tools.initIterate, creator.Individual, toolbox.expr)\n",
      "toolbox.register(\"population\", tools.initRepeat, list, toolbox.individual)"
     ],
     "language": "python",
     "metadata": {},
     "outputs": [],
     "prompt_number": 13
    },
    {
     "cell_type": "markdown",
     "metadata": {},
     "source": [
      "We may now introduce an example of symbolic regression evaluation function. First, the `gp.compile` function transforms the primitive tree into its executable form, a Python function, using a primitive set. Then, the rest is simple maths: we  compute the root mean squared error between the individual's program and the target x^4+x^3+x^2+x on a set of points."
     ]
    },
    {
     "cell_type": "code",
     "collapsed": false,
     "input": [
      "def evaluateRegression(individual, points, pset):\n",
      "    func = gp.compile(expr=individual, pset=pset)\n",
      "    sqerrors = ((func(x) - x**4 - x**3 - x**2 - x)**2 for x in points)\n",
      "    return math.sqrt(sum(sqerrors) / len(points)),"
     ],
     "language": "python",
     "metadata": {},
     "outputs": [],
     "prompt_number": 14
    },
    {
     "cell_type": "markdown",
     "metadata": {},
     "source": [
      "The remaining part of the program is identical to the OneMax example, except for the crossover and mutation operator that are replaced by their genetic programming counterparts."
     ]
    },
    {
     "cell_type": "code",
     "collapsed": false,
     "input": [
      "toolbox.register(\"evaluate\", evaluateRegression, points=[x/10. for x in range(-10, 10)],\n",
      "                 pset=pset)\n",
      "toolbox.register(\"mate\", gp.cxOnePoint)\n",
      "toolbox.register(\"expr_mut\", gp.genFull, min_=0, max_=2)\n",
      "toolbox.register(\"mutate\", gp.mutUniform, expr=toolbox.expr_mut, pset=pset)\n",
      "toolbox.register(\"select\", tools.selTournament, tournsize=3)\n",
      "\n",
      "if __name__ == \"__main__\":\n",
      "    pop = toolbox.population(n=300)\n",
      "    algorithms.eaSimple(pop, toolbox, cxpb=0.5, mutpb=0.2, ngen=40, verbose=False)\n",
      "    bests = tools.selBest(pop, k=1)\n",
      "    print(bests[0])\n",
      "    print(bests[0].fitness)"
     ],
     "language": "python",
     "metadata": {},
     "outputs": [
      {
       "output_type": "stream",
       "stream": "stdout",
       "text": [
        "sub(add(add(sub(mul(x, x), x), mul(mul(x, x), add(x, add(sub(x, x), mul(x, x))))), x), neg(x))\n",
        "(7.97218214573518e-17,)\n"
       ]
      }
     ],
     "prompt_number": 15
    },
    {
     "cell_type": "markdown",
     "metadata": {},
     "source": [
      "Furthermore, using external libraries such as [NetworkX](#networkx) and [PyGraphviz](#pygraphviz), the best primitive trees can be visualized as follow."
     ]
    },
    {
     "cell_type": "code",
     "collapsed": false,
     "input": [
      "import matplotlib.pyplot as plt\n",
      "import networkx\n",
      "\n",
      "nodes, edges, labels = gp.graph(bests[0])\n",
      "graph = networkx.Graph()\n",
      "graph.add_nodes_from(nodes)\n",
      "graph.add_edges_from(edges)\n",
      "pos = networkx.graphviz_layout(graph, prog=\"dot\")\n",
      "\n",
      "plt.figure(figsize=(7,7))\n",
      "networkx.draw_networkx_nodes(graph, pos, node_size=900, node_color=\"w\")\n",
      "networkx.draw_networkx_edges(graph, pos)\n",
      "networkx.draw_networkx_labels(graph, pos, labels)\n",
      "plt.axis(\"off\")\n",
      "plt.show()"
     ],
     "language": "python",
     "metadata": {},
     "outputs": [
      {
       "metadata": {},
       "output_type": "display_data",
       "png": "[encoded data removed]",
       "text": [
        "<matplotlib.figure.Figure at 0x1122b59d0>"
       ]
      }
     ],
     "prompt_number": 16
    },
    {
     "cell_type": "markdown",
     "metadata": {},
     "source": [
      "The primitives are not limited to standard library operators, any function or instance method can be added to a primitive set. Terminals can be any type of objects and even functions without argument. The next example takes advantage of this flexibility and reduces the runtime of the previous example by vectorizing the evaluation using [Numpy](#numpy), a library of high-level mathematical functions operating on multi-dimensional arrays."
     ]
    },
    {
     "cell_type": "code",
     "collapsed": false,
     "input": [
      "import numpy, random\n",
      "from deap import algorithms, base, creator, tools, gp\n",
      "\n",
      "creator.create(\"FitnessMin\", base.Fitness, weights=(-1.0,))\n",
      "creator.create(\"Tree\", gp.PrimitiveTree, fitness=creator.FitnessMin)\n",
      "\n",
      "pset = gp.PrimitiveSet(name=\"MAIN\", arity=1)\n",
      "pset.addPrimitive(numpy.add, arity=2)\n",
      "pset.addPrimitive(numpy.subtract, arity=2)\n",
      "pset.addPrimitive(numpy.multiply, arity=2)\n",
      "pset.addPrimitive(numpy.negative, arity=1)\n",
      "\n",
      "def evaluateRegression(individual, points, pset):\n",
      "    func = gp.compile(expr=individual, pset=pset)\n",
      "    sqerrors = (func(points)-(points**4 + points**3 + points**2 + points))**2\n",
      "    return (numpy.sqrt(numpy.sum(sqerrors) / len(points)),)\n",
      "\n",
      "toolbox = base.Toolbox()\n",
      "toolbox.register(\"expr\", gp.genFull, pset=pset, min_=1, max_=3)\n",
      "toolbox.register(\"individual\", tools.initIterate, creator.Tree, toolbox.expr)\n",
      "toolbox.register(\"population\", tools.initRepeat, list, toolbox.individual)\n",
      "toolbox.register(\"evaluate\", evaluateRegression, points=numpy.linspace(-1, 1, 1000), pset=pset)\n",
      "toolbox.register(\"mate\", gp.cxOnePoint)\n",
      "toolbox.register(\"expr_mut\", gp.genFull, min_=0, max_=2)\n",
      "toolbox.register(\"mutate\", gp.mutUniform, expr=toolbox.expr_mut, pset=pset)\n",
      "toolbox.register(\"select\", tools.selTournament, tournsize=3)\n",
      "\n",
      "if __name__ == \"__main__\":\n",
      "    pop = toolbox.population(n=300)\n",
      "    algorithms.eaSimple(pop, toolbox, cxpb=0.5, mutpb=0.2, ngen=40, verbose=False)\n",
      "    print(tools.selBest(pop, k=1)[0])"
     ],
     "language": "python",
     "metadata": {},
     "outputs": [
      {
       "output_type": "stream",
       "stream": "stdout",
       "text": [
        "subtract(add(multiply(ARG0, multiply(ARG0, ARG0)), multiply(ARG0, ARG0)), subtract(multiply(negative(ARG0), multiply(ARG0, multiply(ARG0, ARG0))), ARG0))\n"
       ]
      }
     ],
     "prompt_number": 17
    },
    {
     "cell_type": "markdown",
     "metadata": {},
     "source": [
      "The idea is to evolve a program whose argument is a vector instead of a scalar. Most of the code remains identical; only minor modifications are required. First, we replace the operators in the primitive set by Numpy operators that work on  vectors. Then, we remove the loop from the evaluation function, since it is implicit in the operators. Finally, we replace the `sum` and `sqrt` functions by their faster Numpy equivalent and our regression problem is now vectorized. The execution is thereby significantly improved as the scalar example runs in around 3 seconds to optimize the regression on 20 points, while the vectorial runtime is identical but for a regression on 1000 points. By modifying only 6 lines of code, not only are we able to vectorize our problem, but the runtime is reduced by a **factor 50**!\n",
      "\n",
      "In addition to the wide support of function and object types, DEAP's *gp* module also supports automatically defined functions (ADF), strongly typed genetic programming (STGP), and object-oriented genetic programming (OOGP), for which examples are provided in the library documentation."
     ]
    },
    {
     "cell_type": "markdown",
     "metadata": {},
     "source": [
      "##Distributed Island Model\n",
      "*This section is skipped because SCOOP cannot run inside a notebook*"
     ]
    },
    {
     "cell_type": "markdown",
     "metadata": {},
     "source": [
      "##Evolution Support\n",
      "DEAP comes with several supporting tools that can be easily integrated into any algorithms. This section presents some of them in the context of the OneMax example.\n",
      "\n",
      "The first tool, *Statistics*, computes statistics on arbitrary attributes of designated objects, usually the fitness individuals. The attribute is specified by a key function at the statistics object instantiation before starting the algorithm."
     ]
    },
    {
     "cell_type": "code",
     "collapsed": false,
     "input": [
      "stats = tools.Statistics(key=operator.attrgetter(\"fitness.values\"))"
     ],
     "language": "python",
     "metadata": {},
     "outputs": [],
     "prompt_number": 18
    },
    {
     "cell_type": "markdown",
     "metadata": {},
     "source": [
      "This is followed by the registration of the statistical functions as for a toolbox."
     ]
    },
    {
     "cell_type": "code",
     "collapsed": false,
     "input": [
      "stats.register(\"max\", numpy.max)\n",
      "stats.register(\"mean\", numpy.mean)\n",
      "stats.register(\"min\", numpy.min)"
     ],
     "language": "python",
     "metadata": {},
     "outputs": [],
     "prompt_number": 19
    },
    {
     "cell_type": "markdown",
     "metadata": {},
     "source": [
      "Ultimately, at every generation, a statistical record of the population is compiled using the registered functions."
     ]
    },
    {
     "cell_type": "code",
     "collapsed": false,
     "input": [
      "record = stats.compile(pop)\n",
      "print(record)"
     ],
     "language": "python",
     "metadata": {},
     "outputs": [
      {
       "output_type": "stream",
       "stream": "stdout",
       "text": [
        "{'max': 1.278197733751099, 'mean': 0.28425041609043089, 'min': 9.5252412640158166e-17}\n"
       ]
      }
     ],
     "prompt_number": 20
    },
    {
     "cell_type": "markdown",
     "metadata": {},
     "source": [
      "The statistics compilation produced a dictionary containing the statistical keywords and their respective value. These last lines, added after the evaluation part, will produce a screen log of the evolution statistics.\n",
      "\n",
      "For posterity and better readability, statistics can also be logged in a \\textit{Logbook}. This object is simply a list of recorded dictionaries that can be printed with a nice layout. For example, the following lines create a new logbook, then record the previously computed statistics and print it to screen."
     ]
    },
    {
     "cell_type": "code",
     "collapsed": false,
     "input": [
      "logbook = tools.Logbook()\n",
      "logbook.record(gen=0, nevals=300, fitness=record)\n",
      "print(logbook)"
     ],
     "language": "python",
     "metadata": {},
     "outputs": [
      {
       "output_type": "stream",
       "stream": "stdout",
       "text": [
        "   \t      \t          fitness          \n",
        "   \t      \t---------------------------\n",
        "gen\tnevals\tmax   \tmean   \tmin        \n",
        "0  \t300   \t1.2782\t0.28425\t9.52524e-17\n"
       ]
      }
     ],
     "prompt_number": 21
    },
    {
     "cell_type": "markdown",
     "metadata": {},
     "source": [
      "The next tool, named *Hall of Fame*, preserves the best individuals that appeared during an evolution. At every generation, it scans the population and saves the individuals in a separate archive that does not interact with the population. If the best solution disappears during the evolution, it will still be available in the hall of fame. The hall of fame can be provided as an argument to the algorithms just like the following."
     ]
    },
    {
     "cell_type": "code",
     "collapsed": false,
     "input": [
      "halloffame = tools.HallOfFame(maxsize=10)\n",
      "pop = toolbox.population(n=300)\n",
      "pop, logbook = algorithms.eaSimple(pop, toolbox, cxpb=0.5, mutpb=0.2,\n",
      "                                   ngen=40, halloffame=halloffame, verbose=False)"
     ],
     "language": "python",
     "metadata": {},
     "outputs": [],
     "prompt_number": 22
    },
    {
     "cell_type": "markdown",
     "metadata": {},
     "source": [
      "Moreover, the hall of fame can be updated manually right after the population is evaluated with the following line of code."
     ]
    },
    {
     "cell_type": "code",
     "collapsed": false,
     "input": [
      "halloffame.update(pop)"
     ],
     "language": "python",
     "metadata": {},
     "outputs": [],
     "prompt_number": 23
    },
    {
     "cell_type": "markdown",
     "metadata": {},
     "source": [
      "The hall of fame proposes a list interface where the individuals are sorted in descending order of fitness. Thus, the fittest solution can be retrieved by accessing the list's first element."
     ]
    },
    {
     "cell_type": "code",
     "collapsed": false,
     "input": [
      "best = halloffame[0]"
     ],
     "language": "python",
     "metadata": {},
     "outputs": [],
     "prompt_number": 24
    },
    {
     "cell_type": "markdown",
     "metadata": {},
     "source": [
      "A Pareto dominance version of the hall of fame is also available. The *Pareto Front* maintains an archive of non-dominated individuals along the evolution. Its interface is the same than the standard hall of fame.\n",
      "\n",
      "Another tool, called the *History*, tracks the genealogy of the individuals in a population. By wrapping the variation operators, the history saves the parents of each individual. This feature is added to the variation operators of the toolbox with the following lines."
     ]
    },
    {
     "cell_type": "code",
     "collapsed": false,
     "input": [
      "history = tools.History()\n",
      "toolbox.decorate(\"mate\", history.decorator)\n",
      "toolbox.decorate(\"mutate\", history.decorator)"
     ],
     "language": "python",
     "metadata": {},
     "outputs": [],
     "prompt_number": 25
    },
    {
     "cell_type": "markdown",
     "metadata": {},
     "source": [
      "It is therefore possible to determine the genesis of individuals. The next code presents the genealogy of the best individual in the OneMax example for the last 5 generations of the evolution. The graph is produced by the NetworkX library and the following listing."
     ]
    },
    {
     "cell_type": "code",
     "collapsed": false,
     "input": [
      "halloffame = tools.HallOfFame(maxsize=1)\n",
      "pop = toolbox.population(n=300)\n",
      "pop, logbook = algorithms.eaSimple(pop, toolbox, cxpb=0.5, mutpb=0.2,\n",
      "                                   ngen=40, halloffame=halloffame, verbose=False)\n",
      "\n",
      "h = history.getGenealogy(halloffame[0], max_depth=5)\n",
      "graph = networkx.DiGraph(h)\n",
      "graph = graph.reverse()     # Make the grah top-down\n",
      "colors = [toolbox.evaluate(history.genealogy_history[i])[0] for i in graph]\n",
      "pos = networkx.graphviz_layout(graph, prog=\"dot\")\n",
      "networkx.draw(graph, pos, node_color=colors)\n",
      "cb = plt.colorbar()\n",
      "cb.set_label(\"Error\")\n",
      "plt.show()"
     ],
     "language": "python",
     "metadata": {},
     "outputs": [
      {
       "metadata": {},
       "output_type": "display_data",
       "png": "[encoded data removed]",
       "text": [
        "<matplotlib.figure.Figure at 0x1114f12d0>"
       ]
      }
     ],
     "prompt_number": 26
    },
    {
     "cell_type": "markdown",
     "metadata": {},
     "source": [
      "The last presented tool is a checkpointing facility. Rather than a DEAP object, checkpointing is ensured by the powerful pickle module available in the standard library. Pickle is a module that can serialize almost any Python object. Checkpointing only requires selecting objects that shall be preserved and the write frequency. This is exactly what is done in the following lines that can be added at the end of the generational loop"
     ]
    },
    {
     "cell_type": "code",
     "collapsed": false,
     "input": [
      "import pickle\n",
      "\n",
      "freq = 5\n",
      "g = 0\n",
      "if g % freq == 0:\n",
      "    cp = dict(population=pop, generation=g, rndstate=random.getstate())\n",
      "    pickle.dump(cp, open(\"checkpoint.pkl\", \"w\"), protocol=2)"
     ],
     "language": "python",
     "metadata": {},
     "outputs": [],
     "prompt_number": 27
    },
    {
     "cell_type": "markdown",
     "metadata": {},
     "source": [
      "These last lines write to file the population, the generation number, and the random number generator state so that it can be used latter to restart an evolution from this exact point in time.\n",
      "Reloading the data is as simple as reading the pickled dictionary and accessing its attributes."
     ]
    },
    {
     "cell_type": "code",
     "collapsed": true,
     "input": [
      "cp = pickle.load(open(\"checkpoint.pkl\", \"r\"))\n",
      "pop = cp[\"population\"]\n",
      "g = cp[\"generation\"]\n",
      "random.setstate(cp[\"rndstate\"])"
     ],
     "language": "python",
     "metadata": {},
     "outputs": [],
     "prompt_number": 28
    },
    {
     "cell_type": "markdown",
     "metadata": {},
     "source": [
      "This simple mechanism provides fault tolerance to any sort of evolutionary algorithms implemented with DEAP. This happens to be critical when exploiting large computational resources where chances of failure grows quickly with the number of computing nodes. Even in very stable execution environments, checkpoints can significantly reduce the amount of time spent on experimentation by allowing evolutions to restart and continue beyond the original stopping criteria.\n",
      "\n",
      "##Conclusion\n",
      "DEAP proposes an agile framework to easily prototype and execute explicit evolutionary algorithms. Its creator module is instrumental for building custom transparent data structures for the problem at hand. Its toolbox module gathers all necessary operators and their arguments in a single handy place. Its design provides straightforward distributed execution with multiple distribution libraries. The presented examples only cover a small part of DEAP's capabilities that include evolution strategies (including CMA-ES), multi-objective optimization (NSGA-II and SPEA-II), co-evolution, particle swarm optimization, as well as many benchmarks (continuous, binary, regression and moving peaks) and examples.\n",
      "\n",
      "After more than 3 years of development, DEAP version 1.0 has been released in February 2014.\n",
      "DEAP is an open source software, licensed under LGPL, developed primarily at the Computer Vision and Systems Laboratory of Universit\u00e9 Laval, Qu\u00e9bec, Canada. DEAP is compatible with Python 2 and 3. It has a single dependency on Numpy for computing statistics and running CMA-ES. Try it out and become nimbler too: <http://deap.gel.ulaval.ca>."
     ]
    },
    {
     "cell_type": "markdown",
     "metadata": {},
     "source": [
      "##References\n",
      "\n",
      "- [1] F.-A. Fortin, F.-M. De Rainville, M.-A. Gardner, M. Parizeau, and C. Gagn\u00e9.\n",
      "DEAP: Evolutionary Algorithms Made Easy.\n",
      "*Journal of Machine Learning Research*,\n",
      "13:2171--2175, 2012.\n",
      "\n",
      "- [2] F.-M. De Rainville, F.-A. Fortin, M.-A. Gardner, M. Parizeau, and C. Gagn\u00e9.\n",
      "DEAP: A Python Framework for Evolutionary Algorithms. \n",
      "*In Companion Proceedings of the Genetic and Evolutionary Computation Conference*,\n",
      "pages 85--92, 2012.\n",
      "\n",
      "- <a id=\"scoop\">[3]</a> Y. Hold-Geoffroy, O. Gagnon, and M. Parizeau.\n",
      "SCOOP: Scalable COncurrent Operations in Python.\n",
      "<http://www.pyscoop.org/>\n",
      "\n",
      "- <a id=\"koza\">[4]</a> J. R. Koza.\n",
      "Genetic Programming - On the Programming of Computers by Means of Natural Selection.\n",
      "MIT Press, 1992.\n",
      "\n",
      "- <a id=\"networkx\">[5]</a> A. A. Hagberg, D. A. Schult, and P. J. Swart. \n",
      "Exploring network structure, dynamics, and function using NetworkX.\n",
      "*In Proceedings of the Python in Science Conference*,\n",
      "pages 11-15, 2008.\n",
      "<http://networkx.github.io>\n",
      "\n",
      "- <a id=\"pygraphviz\">[6]</a> A. A. Hagberg, D. A. Schult, and M. Renieris.\n",
      "PyGraphviz a Python interface to the Graphviz graph layout and visualization package.\n",
      "<http://networkx.lanl.gov/pygraphviz>\n",
      "\n",
      "- <a id=\"numpy\">[7]</a> E. Jones and T. Oliphant and P. Peterson and others.\n",
      "SciPy: Open source scientific tools for Python.\n",
      "<http://www.scipy.org>"
     ]
    }
   ],
   "metadata": {}
  }
 ]
}