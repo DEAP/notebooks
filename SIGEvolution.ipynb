{
 "metadata": {
  "name": ""
 },
 "nbformat": 3,
 "nbformat_minor": 0,
 "worksheets": [
  {
   "cells": [
    {
     "cell_type": "markdown",
     "metadata": {},
     "source": [
      "#DEAP - Enabling Nimbler Evolutions\n",
      "by Fran\u00e7ois-Michel De Rainville, F\u00e9lix-Antoine Fortin, Marc-Andr\u00e9 Gardner, Marc Parizeau, and Christian Gagn\u00e9\n",
      "\n",
      "<img src=\"files/images/deap_highlights.png\" width=\"400px\" style=\"float:right;margin-left:50px;\"/>\n",
      "\n",
      "DEAP is a Distributed Evolutionary Algorithm (EA) framework written in Python and designed to help researchers developing custom evolutionary algorithms. Its design philosophy promotes explicit algorithms and transparent data structures, in contrast with most other evolutionary computation softwares that tend to encapsulate standardized algorithms using the black-box approach. This philosophy sets it apart as a rapid prototyping framework for testing of new ideas in EA research.\n",
      "\n",
      "##Introduction\n",
      "\n",
      "The [DEAP framework](#deap-jmlr) is designed over the three following founding principles:\n",
      "\n",
      "1. Data structures are key to evolutionary computation. They must facilitate the implementation of algorithms and be easy to customize.\n",
      "2. Operator selection and algorithm parameters have strong influences on evolutions, while often being problem dependent. Users should be able to parametrize every aspect of the algorithms with minimal complexity.\n",
      "3. EAs are usually embarrassingly parallel. Therefore, mechanisms that implement distribution paradigms should be trivial to use.\n",
      "\n",
      "With the help of its sister project [SCOOP](#scoop) and the power of the Python programming language, DEAP implements these three principles in a simple and elegant design.\n",
      "\n",
      "###Data Structures\n",
      "\n",
      "A very important part of the success for designing any algorithm - if not the most important - is choosing the appropriate data structures. Freedom in type creation is fundamental in the process of designing evolutionary algorithms that solve real world problems. DEAP's *creator* module allows users to:\n",
      "\n",
      "- create classes with a single line of code (inheritance);\n",
      "- add attributes (composition);\n",
      "- group classes in a single module (sandboxing).\n",
      "\n",
      "In the following listing, we create a minimizing fitness.\n"
     ]
    },
    {
     "cell_type": "code",
     "collapsed": false,
     "input": [
      "from deap import base, creator\n",
      "creator.create(\"FitnessMin\", base.Fitness, weights=(-1.0,))"
     ],
     "language": "python",
     "metadata": {},
     "outputs": [],
     "prompt_number": 1
    },
    {
     "cell_type": "markdown",
     "metadata": {},
     "source": [
      "The `create` function expects at least two arguments; the name of the class to be created and the base class it inherits from. The next arguments are used as class attributes.\n",
      "Thus, the class just created is a `FitnessMin` inheriting from the base class `Fitness` and having a `weights` attribute set to the one element tuple `(-1.0,)`, indicating minimization of a single objective. A multi-objective fitness would be created using a multi-element tuple.\n",
      "\n",
      "Next, we define with the same mechanism an `Individual` class inheriting from a `list` and composed with a `fitness` attribute."
     ]
    },
    {
     "cell_type": "code",
     "collapsed": false,
     "input": [
      "creator.create(\"Individual\", list, fitness=creator.FitnessMin)"
     ],
     "language": "python",
     "metadata": {},
     "outputs": [],
     "prompt_number": 2
    },
    {
     "cell_type": "markdown",
     "metadata": {},
     "source": [
      "When an `Individual` is instantiated, its `fitness` is initialized with an instance of the previously defined `FitnessMin` class. This is illustrated in the following example,"
     ]
    },
    {
     "cell_type": "code",
     "collapsed": false,
     "input": [
      "ind = creator.Individual([1,0,1,0,1])\n",
      "ind.fitness.values = (sum(ind),)"
     ],
     "language": "python",
     "metadata": {},
     "outputs": [],
     "prompt_number": 3
    },
    {
     "cell_type": "markdown",
     "metadata": {},
     "source": [
      "where an individual is created from a list of binary values and the value of its fitness is set to the sum of its elements.\n",
      "In DEAP, the fitness value is always multi-objective with the single objective case being a tuple of one element. This tuple is instantiated by the comma following the sum operation.\n",
      "\n",
      "###Operators\n",
      "\n",
      "Operator selection is another crucial part of evolutionary algorithms. It must be straightforward and its parametrization intuitive. DEAP's *Toolbox* enables users to:\n",
      "\n",
      "- create aliases for operators;\n",
      "- register operators' parameters;\n",
      "- interchange operators efficiently;\n",
      "- regroup all operators in a single structure.\n",
      "\n",
      "The next example presents the construction of a toolbox and how operators and their parameters are registered."
     ]
    },
    {
     "cell_type": "code",
     "collapsed": false,
     "input": [
      "from deap import tools\n",
      "toolbox = base.Toolbox()\n",
      "toolbox.register(\"mate\", tools.cxOnePoint)\n",
      "toolbox.register(\"mutate\", tools.mutGaussian, mu=0.0, std=1.0)"
     ],
     "language": "python",
     "metadata": {},
     "outputs": [],
     "prompt_number": 4
    },
    {
     "cell_type": "markdown",
     "metadata": {},
     "source": [
      "The `register` function expects at least two arguments; the alias of the function and the function itself. The next arguments are passed to the function when called, similarly to the `partial` function from the standard *functools* module.\n",
      "Thus, the first operator is a one point crossover registered under the alias `mate`. The second operator, a gaussian mutation, is registered with its parameters under the generic name `mutate`.  Both operators are available from the *tools* module along with many more instruments to support evolution presented at the end of this paper.\n",
      "\n",
      "During subsequent experiments, replacing the one point crossover by a two point crossover is as easy as substituting the third line of the previous listing by the following one."
     ]
    },
    {
     "cell_type": "code",
     "collapsed": false,
     "input": [
      "toolbox.register(\"mate\", tools.cxTwoPoint)"
     ],
     "language": "python",
     "metadata": {},
     "outputs": [],
     "prompt_number": 5
    },
    {
     "cell_type": "markdown",
     "metadata": {},
     "source": [
      "Wherever the generic function `mate` is used, the new two point crossover will be used.\n",
      "\n",
      "###Parallelization\n",
      "DEAP is parallel ready. The idea is to use a mapping operation that applies a function to every item of a sequence, for instance to evaluate the individuals fitness. By default, every toolbox is registered with the standard `map` function of Python. For algorithms to evaluate individuals in parallel, one only needs to replace this alias by a parallel map such as the one provided by [SCOOP](#scoop), a library capable of distributing tasks over a cluster of computers."
     ]
    },
    {
     "cell_type": "code",
     "collapsed": false,
     "input": [
      "from scoop import futures\n",
      "toolbox.register(\"map\", futures.map)"
     ],
     "language": "python",
     "metadata": {},
     "outputs": [],
     "prompt_number": 6
    },
    {
     "cell_type": "markdown",
     "metadata": {},
     "source": [
      "DEAP is also compatible with the *multiprocessing* standard module, if the user only cares to run on a single multicore machine."
     ]
    },
    {
     "cell_type": "code",
     "collapsed": false,
     "input": [
      "import multiprocessing\n",
      "pool = multiprocessing.Pool()\n",
      "toolbox.register(\"map\", pool.map)"
     ],
     "language": "python",
     "metadata": {},
     "outputs": [],
     "prompt_number": 7
    },
    {
     "cell_type": "markdown",
     "metadata": {},
     "source": [
      "With these powerful tools, DEAP allows scientists and researchers with little programming knowledge to easily implement distributed and parallel EAs."
     ]
    },
    {
     "cell_type": "markdown",
     "metadata": {},
     "source": [
      "##Preaching by Example\n",
      "\n",
      "The best introduction to evolutionary computation with DEAP is to present simple, yet compelling examples. The following sections set forth how algorithms are easy to implement while keeping a strong grip on how they behave. The first section introduces a classical genetic algorithm and exposes different levels of explicitness. The second section presents how genetic programming is implemented in DEAP and the versatility of the GP module. The final example demonstrate how easy it is to implement a generic distributed island model with SCOOP.\n",
      "\n",
      "###A Simple Genetic Algorithm\n",
      "A commonly used example in evolutionary computation is the OneMax problem which consists in maximizing the number of ones in a binary solution. The more ones an individual contains, the higher its fitness value is. Using a genetic algorithm to find such an individual is relatively straightforward. Applying crossovers and mutations on a population of randomly generated binary individuals and selecting the fittest ones at each generation usually lead quickly to a perfect (all ones) solution. A problem of this simplicity should be solved with a very simple program."
     ]
    },
    {
     "cell_type": "code",
     "collapsed": false,
     "input": [
      "import random\n",
      "from deap import algorithms, base, creator, tools\n",
      "\n",
      "creator.create(\"FitnessMax\", base.Fitness, weights=(1.0,))\n",
      "creator.create(\"Individual\", list, fitness=creator.FitnessMax)\n",
      "\n",
      "def evalOneMax(individual):\n",
      "    return (sum(individual),)\n",
      "\n",
      "toolbox = base.Toolbox()\n",
      "toolbox.register(\"attr_bool\", random.randint, 0, 1)\n",
      "toolbox.register(\"individual\", tools.initRepeat, creator.Individual, toolbox.attr_bool, n=100)\n",
      "toolbox.register(\"population\", tools.initRepeat, list, toolbox.individual)\n",
      "toolbox.register(\"evaluate\", evalOneMax)\n",
      "toolbox.register(\"mate\", tools.cxTwoPoint)\n",
      "toolbox.register(\"mutate\", tools.mutFlipBit, indpb=0.05)\n",
      "toolbox.register(\"select\", tools.selTournament, tournsize=3)\n",
      "\n",
      "if __name__ == \"__main__\":\n",
      "    pop = toolbox.population(n=300)\n",
      "    algorithms.eaSimple(pop, toolbox, cxpb=0.5, mutpb=0.2, ngen=40, verbose=False)\n",
      "    print(tools.selBest(pop, k=1))"
     ],
     "language": "python",
     "metadata": {},
     "outputs": [
      {
       "output_type": "stream",
       "stream": "stdout",
       "text": [
        "[[1, 1, 1, 1, 1, 1, 1, 1, 1, 1, 1, 1, 1, 1, 1, 1, 1, 1, 1, 1, 1, 1, 0, 1, 1, 1, 1, 1, 1, 1, 1, 1, 1, 1, 1, 1, 1, 1, 1, 1, 1, 1, 1, 1, 1, 1, 1, 1, 1, 1, 1, 1, 1, 1, 1, 1, 1, 1, 1, 1, 1, 1, 1, 1, 1, 1, 1, 1, 1, 1, 1, 1, 1, 1, 1, 1, 1, 1, 1, 1, 1, 1, 1, 1, 1, 1, 1, 1, 1, 1, 1, 1, 1, 1, 1, 1, 1, 1, 1, 1]]\n"
       ]
      }
     ],
     "prompt_number": 9
    },
    {
     "cell_type": "markdown",
     "metadata": {},
     "source": [
      "The preceeding code presents all that is needed to solve the OneMax problem with DEAP. The first two lines import the necessary modules. Next, on lines 3 and 4, two types are created; a maximizing fitness (note the positive weights), and a list individual composed with an instance of this maximizing fitness. Then, on lines 5 and 6, the evaluation function is defined. It counts the number of ones in a binary list by summing its elements (note again the one element returned tuple corresponding to a single objective fitness). Subsequently, a `Toolbox` is instantiated in which the necessary operators are registered. The first operator, on line 8, produces binary values, in this case integers in $[0, 1]$, using the standard *random* module. The alias `individual`, on line 9, is assigned to the helper function `initRepeat`, which takes a container as the first argument, a function that generates content as the second argument and the number of repetitions as the last argument.\n",
      "Thus, calling the individual function instantiates an `Individual` of `n=100` bits by calling repeatedly the registered `attr_bool` function. The same repetition initializer is used on the next line to produce a population as a list of individuals. The missing number of repetition `n` will be given later in the program. Subsequently, on lines 11 to 14, the evaluation, crossover, mutation and selection operators are registered with all of their parameters.\n",
      "\n",
      "The main program starts at line 16. First, a population of `n=300` individuals is instantiated. Then, the algorithm, provided with the population and the toolbox, is run for `ngen=40` generations with `cxpb=0.5` probability of mating and `mutpb=0.2` probability of mutating an individual for each generation. Finally, on the last line, the best individual of the resulting population is selected and displayed on screen.\n",
      "\n",
      "###Controlling Everything\n",
      "When developing, researching or using EAs, pre-implemented canned algorithms seldom do everything that is needed. Usually, developers/researchers/users have to dig into the framework to tune, add or replace a part of the original algorithm. DEAP breaks with the traditional black-box approach on that precise point; it encourages users to rapidly build their own algorithms. With the different tools provided by DEAP, it is possible to design a nimble algorithm that tackles most problems at hand."
     ]
    },
    {
     "cell_type": "code",
     "collapsed": false,
     "input": [
      "import random\n",
      "from deap import algorithms, base, creator, tools\n",
      "\n",
      "creator.create(\"FitnessMax\", base.Fitness, weights=(1.0,))\n",
      "creator.create(\"Individual\", list, fitness=creator.FitnessMax)\n",
      "\n",
      "def evalOneMax(individual):\n",
      "    return (sum(individual),)\n",
      "\n",
      "toolbox = base.Toolbox()\n",
      "toolbox.register(\"attr_bool\", random.randint, 0, 1)\n",
      "toolbox.register(\"individual\", tools.initRepeat, creator.Individual, toolbox.attr_bool, n=100)\n",
      "toolbox.register(\"population\", tools.initRepeat, list, toolbox.individual)\n",
      "toolbox.register(\"evaluate\", evalOneMax)\n",
      "toolbox.register(\"mate\", tools.cxTwoPoint)\n",
      "toolbox.register(\"mutate\", tools.mutFlipBit, indpb=0.05)\n",
      "toolbox.register(\"select\", tools.selTournament, tournsize=3)\n",
      "\n",
      "if __name__ == \"__main__\":\n",
      "    pop = toolbox.population(n=300)\n",
      "    \n",
      "    ngen, cxpb, mutpb = 40, 0.5, 0.2\n",
      "    fitnesses = toolbox.map(toolbox.evaluate, pop)\n",
      "    for ind, fit in zip(pop, fitnesses):\n",
      "        ind.fitness.values = fit\n",
      "\n",
      "    for g in range(ngen):\n",
      "        pop = toolbox.select(pop, k=len(pop))\n",
      "        pop = algorithms.varAnd(pop, toolbox, cxpb, mutpb)\n",
      "        \n",
      "        invalids = [ind for ind in pop if not ind.fitness.valid]\n",
      "        fitnesses = toolbox.map(toolbox.evaluate, invalids)\n",
      "        for ind, fit in zip(invalids, fitnesses):\n",
      "            ind.fitness.values = fit\n",
      "    \n",
      "    print(tools.selBest(pop, k=1))"
     ],
     "language": "python",
     "metadata": {},
     "outputs": [
      {
       "output_type": "stream",
       "stream": "stdout",
       "text": [
        "[[1, 1, 1, 1, 1, 1, 1, 1, 1, 1, 1, 1, 1, 1, 1, 1, 1, 1, 1, 1, 1, 1, 1, 1, 1, 1, 1, 1, 1, 1, 1, 1, 1, 1, 1, 1, 1, 1, 1, 1, 1, 1, 1, 1, 1, 1, 1, 1, 1, 1, 1, 1, 1, 1, 1, 1, 1, 1, 1, 1, 1, 1, 1, 1, 1, 1, 1, 1, 1, 1, 1, 1, 1, 1, 1, 1, 1, 1, 1, 1, 1, 1, 1, 1, 1, 1, 1, 1, 1, 1, 1, 1, 1, 1, 1, 1, 1, 1, 1, 1]]\n"
       ]
      }
     ],
     "prompt_number": 11
    },
    {
     "cell_type": "markdown",
     "metadata": {},
     "source": [
      "Starting from the previous OneMax solution, a first decomposition of the algorithm replaces the canned `eaSimple` function by a generational loop. Again, this example is exhaustive but still very simple. On the first 3 lines, the evaluation is applied to every individual in the population by the `map` function contained in every toolbox. Next, a loop over both the population and the evaluated fitnesses sets each individual's fitness value. Thereafter, the generational loop begins. It starts by selecting `k` individuals from the population. Then, the selected individuals are varied by crossover **and** mutation by the `varAnd` function. A second variation  scheme `varOr` can also be used, where the individuals are produced by crossover **or** mutation. Once modified, the individuals are evaluated for the next iteration. Only freshly produced individuals have to be evaluated; they are filtered by their fitness validity. This version of the program provides the possibility to change the stopping criterion and add components to the evolution."
     ]
    },
    {
     "cell_type": "code",
     "collapsed": false,
     "input": [
      "import random, math\n",
      "from deap import algorithms, base, creator, tools\n",
      "\n",
      "creator.create(\"FitnessMax\", base.Fitness, weights=(1.0,))\n",
      "creator.create(\"Individual\", list, fitness=creator.FitnessMax)\n",
      "\n",
      "def evalOneMax(individual):\n",
      "    return (sum(individual),)\n",
      "\n",
      "toolbox = base.Toolbox()\n",
      "toolbox.register(\"attr_bool\", random.randint, 0, 1)\n",
      "toolbox.register(\"individual\", tools.initRepeat, creator.Individual, toolbox.attr_bool, n=100)\n",
      "toolbox.register(\"population\", tools.initRepeat, list, toolbox.individual)\n",
      "toolbox.register(\"evaluate\", evalOneMax)\n",
      "toolbox.register(\"mate\", tools.cxTwoPoint)\n",
      "toolbox.register(\"mutate\", tools.mutFlipBit, indpb=0.05)\n",
      "toolbox.register(\"select\", tools.selTournament, tournsize=3)\n",
      "\n",
      "if __name__ == \"__main__\":\n",
      "    pop = toolbox.population(n=300)\n",
      "    \n",
      "    ngen, cxpb, mutpb = 40, 0.5, 0.2\n",
      "    fitnesses = toolbox.map(toolbox.evaluate, pop)\n",
      "    for ind, fit in zip(pop, fitnesses):\n",
      "        ind.fitness.values = fit\n",
      "\n",
      "    for g in range(ngen):\n",
      "        pop = toolbox.select(pop, k=len(pop))\n",
      "        pop = [toolbox.clone(ind) for ind in pop]\n",
      "\n",
      "        for child1, child2 in zip(pop[::2], pop[1::2]):\n",
      "            if random.random() < cxpb:\n",
      "                toolbox.mate(child1, child2)\n",
      "                del child1.fitness.values, child2.fitness.values\n",
      "\n",
      "        for mutant in pop:\n",
      "            if random.random() < mutpb:\n",
      "                toolbox.mutate(mutant)\n",
      "                del mutant.fitness.values\n",
      "        \n",
      "        invalids = [ind for ind in pop if not ind.fitness.valid]\n",
      "        fitnesses = toolbox.map(toolbox.evaluate, invalids)\n",
      "        for ind, fit in zip(invalids, fitnesses):\n",
      "            ind.fitness.values = fit\n",
      "    \n",
      "    print(tools.selBest(pop, k=1))"
     ],
     "language": "python",
     "metadata": {},
     "outputs": [
      {
       "output_type": "stream",
       "stream": "stdout",
       "text": [
        "[[1, 1, 1, 1, 1, 1, 1, 1, 1, 1, 1, 1, 1, 1, 1, 1, 1, 1, 1, 1, 1, 1, 1, 1, 1, 1, 1, 0, 1, 1, 1, 1, 1, 1, 1, 1, 1, 1, 1, 1, 1, 1, 1, 1, 1, 1, 1, 1, 1, 1, 1, 1, 1, 1, 1, 1, 1, 1, 1, 1, 1, 1, 1, 1, 1, 1, 1, 1, 1, 1, 1, 1, 1, 1, 1, 1, 1, 1, 1, 1, 1, 1, 1, 1, 1, 1, 1, 1, 1, 1, 1, 1, 1, 1, 1, 1, 1, 1, 1, 1]]\n"
       ]
      }
     ],
     "prompt_number": 12
    },
    {
     "cell_type": "markdown",
     "metadata": {},
     "source": [
      "An even greater level of detail can be obtained by substituting the `varAnd` function by its full content, presented in last code example. This listing starts with the duplication of the population by the `clone` tool available in every toolbox. Then, the crossover is applied to a portion of consecutive individuals . Each modified individual sees its fitness invalidated by the deletion of its value. Finally, a percentage of the population is mutated and their fitness values is also deleted. This variant of the algorithm provides control over the application order and the number of operators, among many other aspects.\n",
      "\n",
      "The explicitness in which algorithm are written with DEAP clarifies the experiments. This eliminates any ambiguity on the different aspects of the algorithm that could, when overlooked, jeopardize the reproducibility and interpretation of results.\n",
      "\n",
      "###Genetic Programming\n",
      "DEAP also includes every component necessary to design genetic programming algorithms with the same ease as for genetic algorithms. For example, the most commonly used tree individual can be created as following."
     ]
    },
    {
     "cell_type": "code",
     "collapsed": false,
     "input": [
      "import operator, random\n",
      "from deap import algorithms, base, creator, tools, gp\n",
      "\n",
      "creator.create(\"FitnessMin\", base.Fitness, weights=(-1.0,))\n",
      "creator.create(\"Individual\", gp.PrimitiveTree, fitness=creator.FitnessMin)"
     ],
     "language": "python",
     "metadata": {},
     "outputs": [],
     "prompt_number": 13
    },
    {
     "cell_type": "markdown",
     "metadata": {},
     "source": [
      "The primitive tree is provided in the *gp* module since it is one of the few data types the Python standard library does not provide. The primitives and terminals that will populate the trees are regrouped in a primitive set. The following listing presents a primitive set instantiation with basic operators provided by the standard library *operator* module. The `arity` of a primitive is its number of operands."
     ]
    },
    {
     "cell_type": "code",
     "collapsed": false,
     "input": [
      "pset = gp.PrimitiveSet(name=\"MAIN\", arity=1)\n",
      "pset.addPrimitive(operator.add, arity=2)\n",
      "pset.addPrimitive(operator.sub, arity=2)\n",
      "pset.addPrimitive(operator.mul, arity=2)\n",
      "pset.addPrimitive(operator.neg, arity=1)\n",
      "pset.renameArguments(ARG0=\"x\")"
     ],
     "language": "python",
     "metadata": {},
     "outputs": [],
     "prompt_number": 14
    },
    {
     "cell_type": "markdown",
     "metadata": {},
     "source": [
      "Functions that initialize individuals and populations are registered in a toolbox just as in the preceding genetic algorithm example. DEAP implements the three initialization methods proposed by [Koza](#koza) to generate trees: full, grow, and half-and-half."
     ]
    },
    {
     "cell_type": "code",
     "collapsed": false,
     "input": [
      "toolbox = base.Toolbox()\n",
      "toolbox.register(\"expr\", gp.genFull, pset=pset, min_=1, max_=3)\n",
      "toolbox.register(\"individual\", tools.initIterate, creator.Individual, toolbox.expr)\n",
      "toolbox.register(\"population\", tools.initRepeat, list, toolbox.individual)"
     ],
     "language": "python",
     "metadata": {},
     "outputs": [],
     "prompt_number": 15
    },
    {
     "cell_type": "markdown",
     "metadata": {},
     "source": [
      "We may now introduce an example of a symbolic regression evaluation function. First, the `gp.compile` function transforms the primitive tree into its executable form, a Python function, using a primitive set `pset` given as the evaluation function's third argument. Then, the rest is simple maths: we  compute the root mean squared error between the individual's program and the target x^4+x^3+x^2+x on a set of points, the evaluation function's second arguent."
     ]
    },
    {
     "cell_type": "code",
     "collapsed": false,
     "input": [
      "def evaluateRegression(individual, points, pset):\n",
      "    func = gp.compile(expr=individual, pset=pset)\n",
      "    sqerrors = ((func(x) - x**4 - x**3 - x**2 - x)**2 for x in points)\n",
      "    return math.sqrt(sum(sqerrors) / len(points)),"
     ],
     "language": "python",
     "metadata": {},
     "outputs": [],
     "prompt_number": 16
    },
    {
     "cell_type": "markdown",
     "metadata": {},
     "source": [
      "Next, the evaluation function and the variation operators are registered similarly to the onemax example, while the other operators remain the same."
     ]
    },
    {
     "cell_type": "code",
     "collapsed": false,
     "input": [
      "toolbox.register(\"evaluate\", evaluateRegression, points=[x/10. for x in range(-10, 10)],\n",
      "                 pset=pset)\n",
      "toolbox.register(\"mate\", gp.cxOnePoint)\n",
      "toolbox.register(\"expr_mut\", gp.genFull, min_=0, max_=2)\n",
      "toolbox.register(\"mutate\", gp.mutUniform, expr=toolbox.expr_mut, pset=pset)\n",
      "toolbox.register(\"select\", tools.selTournament, tournsize=3)\n",
      "\n",
      "if __name__ == \"__main__\":\n",
      "    pop = toolbox.population(n=300)\n",
      "    algorithms.eaSimple(pop, toolbox, cxpb=0.5, mutpb=0.2, ngen=40, verbose=False)\n",
      "    bests = tools.selBest(pop, k=1)\n",
      "    print(bests[0])\n",
      "    print(bests[0].fitness)"
     ],
     "language": "python",
     "metadata": {},
     "outputs": [
      {
       "output_type": "stream",
       "stream": "stdout",
       "text": [""
       ]
      }
     ],
     "prompt_number": 17
    },
    {
     "cell_type": "markdown",
     "metadata": {},
     "source": [
      "Furthermore, using external libraries such as [NetworkX](#networkx) and [PyGraphviz](#pygraphviz), the best primitive trees can be visualized as follow."
     ]
    },
    {
     "cell_type": "code",
     "collapsed": false,
     "input": [
      "import matplotlib.pyplot as plt\n",
      "import networkx\n",
      "\n",
      "nodes, edges, labels = gp.graph(bests[0])\n",
      "graph = networkx.Graph()\n",
      "graph.add_nodes_from(nodes)\n",
      "graph.add_edges_from(edges)\n",
      "pos = networkx.graphviz_layout(graph, prog=\"dot\")\n",
      "\n",
      "plt.figure(figsize=(7,7))\n",
      "networkx.draw_networkx_nodes(graph, pos, node_size=900, node_color=\"w\")\n",
      "networkx.draw_networkx_edges(graph, pos)\n",
      "networkx.draw_networkx_labels(graph, pos, labels)\n",
      "plt.axis(\"off\")\n",
      "plt.show()"
     ],
     "language": "python",
     "metadata": {},
     "outputs": [
      {
       "metadata": {},
       "output_type": "display_data",
       "png": "iVBORw0KGgoAAAANSUhEUgAAAbsAAAGkCAYAAACo6YtQAAAABHNCSVQICAgIfAhkiAAAAAlwSFlz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\nXHaMMcZMHpcdY4wxk/d/QFktQ7YNrCoAAAAASUVORK5CYII=\n",
       "text": [
        "<matplotlib.figure.Figure at 0x1122b59d0>"
       ]
      }
     ],
     "prompt_number": 18
    },
    {
     "cell_type": "markdown",
     "metadata": {},
     "source": [
      "The primitives are not limited to standard library operators, any function or instance method can be added to a primitive set. Terminals can be any type of objects and even functions without argument. The next example takes advantage of this flexibility and reduces the runtime of the previous example by vectorizing the evaluation using [Numpy](#numpy), a library of high-level mathematical functions operating on multi-dimensional arrays."
     ]
    },
    {
     "cell_type": "code",
     "collapsed": false,
     "input": [
      "import numpy, random\n",
      "from deap import algorithms, base, creator, tools, gp\n",
      "\n",
      "creator.create(\"FitnessMin\", base.Fitness, weights=(-1.0,))\n",
      "creator.create(\"Tree\", gp.PrimitiveTree, fitness=creator.FitnessMin)\n",
      "\n",
      "pset = gp.PrimitiveSet(name=\"MAIN\", arity=1)\n",
      "pset.addPrimitive(numpy.add, arity=2)\n",
      "pset.addPrimitive(numpy.subtract, arity=2)\n",
      "pset.addPrimitive(numpy.multiply, arity=2)\n",
      "pset.addPrimitive(numpy.negative, arity=1)\n",
      "\n",
      "def evaluateRegression(individual, points, pset):\n",
      "    func = gp.compile(expr=individual, pset=pset)\n",
      "    sqerrors = (func(points)-(points**4 + points**3 + points**2 + points))**2\n",
      "    return (numpy.sqrt(numpy.sum(sqerrors) / len(points)),)\n",
      "\n",
      "toolbox = base.Toolbox()\n",
      "toolbox.register(\"expr\", gp.genFull, pset=pset, min_=1, max_=3)\n",
      "toolbox.register(\"individual\", tools.initIterate, creator.Tree, toolbox.expr)\n",
      "toolbox.register(\"population\", tools.initRepeat, list, toolbox.individual)\n",
      "toolbox.register(\"evaluate\", evaluateRegression, points=numpy.linspace(-1, 1, 1000), pset=pset)\n",
      "toolbox.register(\"mate\", gp.cxOnePoint)\n",
      "toolbox.register(\"expr_mut\", gp.genFull, min_=0, max_=2)\n",
      "toolbox.register(\"mutate\", gp.mutUniform, expr=toolbox.expr_mut, pset=pset)\n",
      "toolbox.register(\"select\", tools.selTournament, tournsize=3)\n",
      "\n",
      "if __name__ == \"__main__\":\n",
      "    pop = toolbox.population(n=300)\n",
      "    algorithms.eaSimple(pop, toolbox, cxpb=0.5, mutpb=0.2, ngen=40, verbose=False)\n",
      "    print(tools.selBest(pop, k=1)[0])"
     ],
     "language": "python",
     "metadata": {},
     "outputs": [
      {
       "output_type": "stream",
       "stream": "stdout",
       "text": [
        "subtract(add(add(ARG0, ARG0), negative(ARG0)), multiply(negative(add(subtract(subtract(ARG0, ARG0), subtract(ARG0, ARG0)), ARG0)), add(add(ARG0, multiply(multiply(ARG0, ARG0), ARG0)), multiply(ARG0, ARG0))))\n"
       ]
      }
     ],
     "prompt_number": 19
    },
    {
     "cell_type": "markdown",
     "metadata": {},
     "source": [
      "The idea is to evolve a program whose argument is a vector instead of a scalar. Most of the code remains identical; only minor modifications are required. First, we replace the operators in the primitive set by Numpy operators that work on  vectors. Then, we remove the loop from the evaluation function, since it is implicit in the operators. Finally, we replace the `sum` and `sqrt` functions by their faster Numpy equivalent and our regression problem is now vectorized. The execution is thereby significantly improved as the scalar example runs in around 3 seconds to optimize the regression on 20 points, while the vectorial runtime is identical but for a regression on 1000 points. By modifying only 6 lines of code, not only are we able to vectorize our problem, but the runtime is reduced by a **factor 50**!\n",
      "\n",
      "In addition to the wide support of function and object types, DEAP's *gp* module also supports automatically defined functions (ADF), strongly typed genetic programming (STGP), and object-oriented genetic programming (OOGP), for which examples are provided in the library documentation."
     ]
    },
    {
     "cell_type": "markdown",
     "metadata": {},
     "source": [
      "##Distributed Island Model\n",
      "*This section is skipped because SCOOP cannot run inside a notebook*"
     ]
    },
    {
     "cell_type": "markdown",
     "metadata": {},
     "source": [
      "##Evolution Support\n",
      "DEAP comes with several supporting tools that can be easily integrated into any algorithm. This section presents some of them in the context of the OneMax example.\n",
      "\n",
      "The first tool, *Statistics*, computes statistics on arbitrary attributes of designated objects, usually the fitness individuals. The attribute is specified by a key function at the statistics object instantiation before starting the algorithm."
     ]
    },
    {
     "cell_type": "code",
     "collapsed": false,
     "input": [
      "stats = tools.Statistics(key=operator.attrgetter(\"fitness.values\"))"
     ],
     "language": "python",
     "metadata": {},
     "outputs": [],
     "prompt_number": 20
    },
    {
     "cell_type": "markdown",
     "metadata": {},
     "source": [
      "This is followed by the registration of the statistical functions as for a toolbox."
     ]
    },
    {
     "cell_type": "code",
     "collapsed": false,
     "input": [
      "stats.register(\"max\", numpy.max)\n",
      "stats.register(\"mean\", numpy.mean)\n",
      "stats.register(\"min\", numpy.min)"
     ],
     "language": "python",
     "metadata": {},
     "outputs": [],
     "prompt_number": 21
    },
    {
     "cell_type": "markdown",
     "metadata": {},
     "source": [
      "Ultimately, at every generation, a statistical record of the population is compiled using the registered functions."
     ]
    },
    {
     "cell_type": "code",
     "collapsed": false,
     "input": [
      "record = stats.compile(pop)\n",
      "print(record)"
     ],
     "language": "python",
     "metadata": {},
     "outputs": [
      {
       "output_type": "stream",
       "stream": "stdout",
       "text": [
<<<<<<< HEAD
        "{'max': 2.7531209846856632, 'mean': 0.41149098318409433, 'min': 1.1588576056708691e-16}\n"
=======
        "{'max': 1.278197733751099, 'mean': 0.28425041609043089, 'min': 9.5252412640158166e-17}\n"
>>>>>>> f56bb1af6c3b446b56038c537ff9054032bc6de1
       ]
      }
     ],
     "prompt_number": 22
    },
    {
     "cell_type": "markdown",
     "metadata": {},
     "source": [
      "The statistics compilation produced a dictionary containing the statistical keywords and their respective value. These last lines, added after the evaluation part, will produce a screen log of the evolution statistics.\n",
      "\n",
      "For posterity and better readability, statistics can also be logged in a \\textit{Logbook}, which is simply a list of recorded dictionaries that can be printed with an elegant layout. For example, the following lines create a new logbook, then record the previously computed statistics and print it to screen."
     ]
    },
    {
     "cell_type": "code",
     "collapsed": false,
     "input": [
      "logbook = tools.Logbook()\n",
      "logbook.record(gen=0, nevals=300, fitness=record)\n",
      "print(logbook)"
     ],
     "language": "python",
     "metadata": {},
     "outputs": [
      {
       "output_type": "stream",
       "stream": "stdout",
       "text": [
<<<<<<< HEAD
        "   \t      \t              fitness              \n",
        "   \t      \t-----------------------------------\n",
        "gen\tnevals\tmax    \tmean    \tmin        \n",
        "0  \t300   \t2.75312\t0.411491\t1.15886e-16\n"
=======
        "   \t      \t          fitness          \n",
        "   \t      \t---------------------------\n",
        "gen\tnevals\tmax   \tmean   \tmin        \n",
        "0  \t300   \t1.2782\t0.28425\t9.52524e-17\n"
>>>>>>> f56bb1af6c3b446b56038c537ff9054032bc6de1
       ]
      }
     ],
     "prompt_number": 23
    },
    {
     "cell_type": "markdown",
     "metadata": {},
     "source": [
      "The next tool, named *Hall of Fame*, preserves the best individuals that appeared during an evolution. At every generation, it scans the population and saves the individuals in a separate archive that does not interact with the population. If the best solution disappears during the evolution, it will still be available in the hall of fame. The hall of fame can be provided as an argument to the algorithms as follows:"
     ]
    },
    {
     "cell_type": "code",
     "collapsed": false,
     "input": [
      "halloffame = tools.HallOfFame(maxsize=10)\n",
      "pop = toolbox.population(n=300)\n",
      "pop, logbook = algorithms.eaSimple(pop, toolbox, cxpb=0.5, mutpb=0.2,\n",
      "                                   ngen=40, halloffame=halloffame, verbose=False)"
     ],
     "language": "python",
     "metadata": {},
     "outputs": [],
     "prompt_number": 24
    },
    {
     "cell_type": "markdown",
     "metadata": {},
     "source": [
      "Moreover, the hall of fame can be updated manually right after the population is evaluated with the following line of code."
     ]
    },
    {
     "cell_type": "code",
     "collapsed": false,
     "input": [
      "halloffame.update(pop)"
     ],
     "language": "python",
     "metadata": {},
     "outputs": [],
     "prompt_number": 25
    },
    {
     "cell_type": "markdown",
     "metadata": {},
     "source": [
      "The hall of fame proposes a list interface where the individuals are sorted in descending order of fitness. Thus, the fittest solution can be retrieved by accessing the list's first element."
     ]
    },
    {
     "cell_type": "code",
     "collapsed": false,
     "input": [
      "best = halloffame[0]"
     ],
     "language": "python",
     "metadata": {},
     "outputs": [],
     "prompt_number": 26
    },
    {
     "cell_type": "markdown",
     "metadata": {},
     "source": [
      "A Pareto dominance version of the hall of fame is also available. The *Pareto Front* maintains an archive of non-dominated individuals along the evolution. Its interface is the same than the standard hall of fame.\n",
      "\n",
      "Another tool, called the *History*, tracks the genealogy of the individuals in a population. By wrapping the variation operators, the history saves the parents of each individual. This feature is added to the variation operators of the toolbox with the following lines."
     ]
    },
    {
     "cell_type": "code",
     "collapsed": false,
     "input": [
      "history = tools.History()\n",
      "toolbox.decorate(\"mate\", history.decorator)\n",
      "toolbox.decorate(\"mutate\", history.decorator)"
     ],
     "language": "python",
     "metadata": {},
     "outputs": [],
     "prompt_number": 27
    },
    {
     "cell_type": "markdown",
     "metadata": {},
     "source": [
      "It is therefore possible to determine the genesis of individuals. The next code presents the genealogy of the best individual in the OneMax example for the last 5 generations of the evolution. The graph is produced by the NetworkX library and the following listing."
     ]
    },
    {
     "cell_type": "code",
     "collapsed": false,
     "input": [
      "halloffame = tools.HallOfFame(maxsize=1)\n",
      "pop = toolbox.population(n=300)\n",
      "pop, logbook = algorithms.eaSimple(pop, toolbox, cxpb=0.5, mutpb=0.2,\n",
      "                                   ngen=40, halloffame=halloffame, verbose=False)\n",
      "\n",
      "h = history.getGenealogy(halloffame[0], max_depth=5)\n",
      "graph = networkx.DiGraph(h)\n",
      "graph = graph.reverse()     # Make the grah top-down\n",
      "colors = [toolbox.evaluate(history.genealogy_history[i])[0] for i in graph]\n",
      "pos = networkx.graphviz_layout(graph, prog=\"dot\")\n",
      "networkx.draw(graph, pos, node_color=colors)\n",
      "cb = plt.colorbar()\n",
      "cb.set_label(\"Error\")\n",
      "plt.show()"
     ],
     "language": "python",
     "metadata": {},
     "outputs": [
      {
       "metadata": {},
       "output_type": "display_data",
<<<<<<< HEAD
       "png": "iVBORw0KGgoAAAANSUhEUgAAAc8AAAE+CAYAAADrtpuXAAAABHNCSVQICAgIfAhkiAAAAAlwSFlz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\nYpLCU0RExKT/AwbnWZhWiBBbAAAAAElFTkSuQmCC\n",
       "text": [
        "<matplotlib.figure.Figure at 0x1042d4b90>"
=======
       "png": "iVBORw0KGgoAAAANSUhEUgAAAc8AAAE+CAYAAADrtpuXAAAABHNCSVQICAgIfAhkiAAAAAlwSFlz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\nKYQQQhhIkqcQQghhoP8H1B1IO9315D4AAAAASUVORK5CYII=\n",
       "text": [
        "<matplotlib.figure.Figure at 0x1114f12d0>"
>>>>>>> f56bb1af6c3b446b56038c537ff9054032bc6de1
       ]
      }
     ],
     "prompt_number": 28
    },
    {
     "cell_type": "markdown",
     "metadata": {},
     "source": [
      "The last presented tool is a checkpointing facility. Rather than a DEAP object, checkpointing is ensured by the powerful pickle module available in the standard library. Pickle is a module that can serialize almost any Python object. Checkpointing only requires selecting objects that shall be preserved and the write frequency. This is exactly what is done in the following lines that can be added at the end of the generational loop"
     ]
    },
    {
     "cell_type": "code",
     "collapsed": false,
     "input": [
      "import pickle\n",
      "\n",
      "freq = 5\n",
      "g = 0\n",
      "if g % freq == 0:\n",
      "    cp = dict(population=pop, generation=g, rndstate=random.getstate())\n",
<<<<<<< HEAD
      "    pickle.dump(cp, open(\"checkpoint.pkl\", \"w\"), 2)"
=======
      "    pickle.dump(cp, open(\"checkpoint.pkl\", \"w\"), protocol=2)"
>>>>>>> f56bb1af6c3b446b56038c537ff9054032bc6de1
     ],
     "language": "python",
     "metadata": {},
     "outputs": [],
<<<<<<< HEAD
     "prompt_number": 30
=======
     "prompt_number": 27
>>>>>>> f56bb1af6c3b446b56038c537ff9054032bc6de1
    },
    {
     "cell_type": "markdown",
     "metadata": {},
     "source": [
      "These last lines write into a file the population, the generation number, and the random number generator state so that this information can be used latter to restart an evolution from this exact point in time.\n",
      "Reloading the data is as simple as reading the pickled dictionary and accessing its attributes."
     ]
    },
    {
     "cell_type": "code",
     "collapsed": true,
     "input": [
      "cp = pickle.load(open(\"checkpoint.pkl\", \"r\"))\n",
      "pop = cp[\"population\"]\n",
      "g = cp[\"generation\"]\n",
      "random.setstate(cp[\"rndstate\"])"
     ],
     "language": "python",
     "metadata": {},
     "outputs": [],
<<<<<<< HEAD
     "prompt_number": 31
=======
     "prompt_number": 28
>>>>>>> f56bb1af6c3b446b56038c537ff9054032bc6de1
    },
    {
     "cell_type": "markdown",
     "metadata": {},
     "source": [
      "This simple mechanism provides fault tolerance to any sort of evolutionary algorithms implemented with DEAP. This happens to be critical when exploiting large computational resources where chances of failure grow quickly with the number of computing nodes. Even in very stable execution environments, checkpoints can significantly reduce the amount of time spent on experimentation by allowing evolutions to restart and continue beyond the original stopping criteria.\n",
      "\n",
      "##Conclusion\n",
      "DEAP proposes an agile framework to easily prototype and execute explicit evolutionary algorithms. Its creator module is instrumental for building custom transparent data structures for the problem at hand. Its toolbox gathers all necessary operators and their arguments in a single handy structure. Its design provides straightforward distributed execution with multiple distribution libraries. The presented examples only cover a small part of DEAP's capabilities that include evolution strategies (including CMA-ES), multi-objective optimization (NSGA-II and SPEA-II), co-evolution, particle swarm optimization, as well as many benchmarks (continuous, binary, regression, and moving peaks), and examples (more than 40).\n",
      "\n",
      "After more than 4 years of development, DEAP version 1.0 has been released in February 2014.\n",
      "DEAP is an open source software, licensed under LGPL, developed primarily at the Computer Vision and Systems Laboratory of Universit\u00e9 Laval, Qu\u00e9bec, Canada. DEAP is compatible with Python 2 and 3. It has a single dependency on Numpy for computing statistics and running CMA-ES. Try it out and become nimbler too: <http://deap.gel.ulaval.ca>."
     ]
    },
    {
     "cell_type": "markdown",
     "metadata": {},
     "source": [
      "##References\n",
      "\n",
      "- <a id=\"deap-jmlr\">[1]</a> F.-A. Fortin, F.-M. De Rainville, M.-A. Gardner, M. Parizeau, and C. Gagn\u00e9.\n",
      "DEAP: Evolutionary Algorithms Made Easy.\n",
      "*Journal of Machine Learning Research*,\n",
      "13:2171--2175, 2012.\n",
      "\n",
      "- <a id=\"deap-gecco\">[2]</a> F.-M. De Rainville, F.-A. Fortin, M.-A. Gardner, M. Parizeau, and C. Gagn\u00e9.\n",
      "DEAP: A Python Framework for Evolutionary Algorithms. \n",
      "*In Companion Proceedings of the Genetic and Evolutionary Computation Conference*,\n",
      "pages 85--92, 2012.\n",
      "\n",
      "- <a id=\"scoop\">[3]</a> Y. Hold-Geoffroy, O. Gagnon, and M. Parizeau.\n",
      "SCOOP: Scalable COncurrent Operations in Python.\n",
      "<http://www.pyscoop.org/>\n",
      "\n",
      "- <a id=\"koza\">[4]</a> J. R. Koza.\n",
      "Genetic Programming - On the Programming of Computers by Means of Natural Selection.\n",
      "MIT Press, 1992.\n",
      "\n",
      "- <a id=\"networkx\">[5]</a> A. A. Hagberg, D. A. Schult, and P. J. Swart. \n",
      "Exploring network structure, dynamics, and function using NetworkX.\n",
      "*In Proceedings of the Python in Science Conference*,\n",
      "pages 11-15, 2008.\n",
      "<http://networkx.github.io>\n",
      "\n",
      "- <a id=\"pygraphviz\">[6]</a> A. A. Hagberg, D. A. Schult, and M. Renieris.\n",
      "PyGraphviz a Python interface to the Graphviz graph layout and visualization package.\n",
      "<http://networkx.lanl.gov/pygraphviz>\n",
      "\n",
      "- <a id=\"numpy\">[7]</a> E. Jones and T. Oliphant and P. Peterson and others.\n",
      "SciPy: Open source scientific tools for Python.\n",
      "<http://www.scipy.org>"
     ]
    }
   ],
   "metadata": {}
  }
 ]
}