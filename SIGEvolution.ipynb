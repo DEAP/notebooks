{
 "metadata": {
  "name": "SIGEvolution"
 },
 "nbformat": 3,
 "nbformat_minor": 0,
 "worksheets": [
  {
   "cells": [
    {
     "cell_type": "markdown",
     "metadata": {},
     "source": [
      "#DEAP - Enabling Nimbler Evolutions\n",
      "by Fran\u00e7ois-Michel De Rainville, F\u00e9lix-Antoine Fortin, Marc-Andr\u00e9 Gardner, Marc Parizeau, and Christian Gagn\u00e9\n",
      "\n",
      "DEAP is a Distributed Evolutionary Algorithm framework written in Python and designed to help researchers develop custom evolutionary algorithms. Its design philosophy promotes explicit algorithms and transparent data structures, in contrast with most other evolutionary computation softwares that tend to encapsulate standardized algorithms using the black-box approach. This philosophy sets it apart as a rapid prototyping framework for testing of new research ideas.\n",
      "\n",
      "![caption](files/deap_highlights.png)\n",
      "\n",
      "##Introduction\n",
      "\n",
      "The DEAP framework is designed over three following founding principals:\n",
      "\n",
      "1. Data structures are key to evolutionary computations. They must facilitate the implementation of algorithms and be easy to customize.\n",
      "2. Operator selection and algorithm parameters have strong influences on evolutions, while often being problem dependent. Users should be able to parametrize every aspect of the algorithms with minimal complexity.\n",
      "3. Evolutionary computations are usually embarrassingly parallel. Therefore, mechanisms that implement distribution paradigms should be trivial to use.\n",
      "\n",
      "With the help of its sister project SCOOP and the power of the Python programming language, DEAP implements these three principles in a simple and elegant design.\n",
      "\n",
      "###Data Structures\n",
      "\n",
      "A very important part of the success of any algorithm - if not the most important - is choosing the appropriate data structures. Freedom in type creation is fundamental in the process of designing evolutionary algorithms that solve real world problems. DEAP's *creator* module allows to\n",
      "\n",
      "- create classes with a single line of code (inheritance),\n",
      "- add attributes (composition),\n",
      "- regroup classes in a single module (sandboxing).\n",
      "\n",
      "In the following listing, we first create a *FitnessMin* class derived from the *Fitness* base class.\n"
     ]
    },
    {
     "cell_type": "code",
     "collapsed": false,
     "input": [
      "from deap import base, creator\n",
      "creator.create(\"FitnessMin\", base.Fitness, weights=(-1.0,))"
     ],
     "language": "python",
     "metadata": {},
     "outputs": [],
     "prompt_number": 3
    },
    {
     "cell_type": "markdown",
     "metadata": {},
     "source": [
      "The class is created with a *weights* attribute set to -1.0, indicating minimization of a single objective. Then we define with the same mechanism an *Individual* class inheriting from a *list* and composed of a fitness attribute."
     ]
    },
    {
     "cell_type": "code",
     "collapsed": false,
     "input": [
      "creator.create(\"Individual\", list, fitness=creator.FitnessMin)"
     ],
     "language": "python",
     "metadata": {},
     "outputs": []
    },
    {
     "cell_type": "markdown",
     "metadata": {},
     "source": [
      "When an Individual is instantiated, its fitness property is initialized with an instance of the previously defined FitnessMin class. This is illustrated in the following example,\n",
      "\\input{code/creator_inst}\n",
      "where an individual is created from a list of binary values and its fitness value is set to the sum of its elements.\n",
      "Fitness values, in DEAP, are always multi-objectives with the single objective case being a tuple of one element. This tuple is instantiated by the comma following the sum operation.\n",
      "\n",
      "###Operators\n",
      "\n",
      "Operator selection is another crucial part of evolutionary algorithms. It must be straightforward and its parametrization intuitive. DEAP's *Toolbox* enables users to\n",
      "\n",
      "- create aliases for operators,\n",
      "- register operators' parameters,\n",
      "- interchange operators efficiently,\n",
      "- regroup all operators in a single structure.\n",
      "\n",
      "The next example presents the construction of a toolbox and how operators and their parameters are registered.\n",
      "\\input{code/toolbox_ex}\n",
      "The first operator is a one point crossover which is registered under the alias `mate`. The second operator, a gaussian mutation, is registered with its parameters under the generic name `mutate`.  Both operators are available from the \\textit{tools} module.\n",
      "\n",
      "During subsequent experiments, replacing the one point crossover by a two points crossover is as easy as substituting the third line of the previous listing by the following one.\n",
      "\\input{code/toolbox_ex2}\n",
      "Wherever the generic function named mate is used, the new two points crossover will be used instead.\n",
      "\n",
      "###Parallelization\n",
      "DEAP is parallel ready. The idea is to use a \\texttt{map} operator for mapping data to function, for instance to evaluate fitness of individuals. By default, every toolbox is registered with the standard \\texttt{map} function of Python. For algorithms to evaluate individuals in parallel, one only needs to replace this alias by a parallel map such as the one provided by SCOOP~\\cite{3}, a library capable of distributing tasks over a cluster of computers.\n",
      "\\input{code/scoop}\n",
      "DEAP is also compatible with the \\textit{multiprocessing} standard module, if the user only cares to run on a single multicore machine.\n",
      "\\input{code/multiproc}\n",
      "\n",
      "With these powerful tools, DEAP allows scientists and researchers with little programming knowledge to easily implement distributed evolutionary algorithms."
     ]
    },
    {
     "cell_type": "code",
     "collapsed": false,
     "input": [],
     "language": "python",
     "metadata": {},
     "outputs": []
    },
    {
     "cell_type": "code",
     "collapsed": false,
     "input": [],
     "language": "python",
     "metadata": {},
     "outputs": []
    },
    {
     "cell_type": "code",
     "collapsed": false,
     "input": [
      "from IPython.core.display import HTML\n",
      "def css_styling():\n",
      "    styles = open(\"styles/custom.css\", \"r\").read()\n",
      "    return HTML(styles)\n",
      "css_styling()"
     ],
     "language": "python",
     "metadata": {},
     "outputs": [
      {
       "html": [
        "<style>\n",
        "    @font-face {\n",
        "        font-family: \"Computer Modern\";\n",
        "        src: url('http://mirrors.ctan.org/fonts/cm-unicode/fonts/otf/cmunss.otf');\n",
        "    }\n",
        "    div.cell{\n",
        "        width:800px;\n",
        "        margin-left:16% !important;\n",
        "        margin-right:auto;\n",
        "    }\n",
        "    h1 {\n",
        "        font-family: Helvetica, serif;\n",
        "    }\n",
        "    h4{\n",
        "        margin-top:12px;\n",
        "        margin-bottom: 3px;\n",
        "       }\n",
        "    div.text_cell_render{\n",
        "        font-family: Computer Modern, \"Helvetica Neue\", Arial, Helvetica, Geneva, sans-serif;\n",
        "        line-height: 145%;\n",
        "        font-size: 130%;\n",
        "        width:800px;\n",
        "        margin-left:auto;\n",
        "        margin-right:auto;\n",
        "    }\n",
        "    .CodeMirror{\n",
        "            font-family: \"Source Code Pro\", source-code-pro,Consolas, monospace;\n",
        "    }\n",
        "    .prompt{\n",
        "        display: None;\n",
        "    }\n",
        "    .text_cell_render h5 {\n",
        "        font-weight: 300;\n",
        "        font-size: 16pt;\n",
        "        color: #4057A1;\n",
        "        font-style: italic;\n",
        "        margin-bottom: .5em;\n",
        "        margin-top: 0.5em;\n",
        "        display: block;\n",
        "    }\n",
        "    \n",
        "    .warning{\n",
        "        color: rgb( 240, 20, 20 )\n",
        "        }  \n",
        "</style>\n",
        "<script>\n",
        "    MathJax.Hub.Config({\n",
        "                        TeX: {\n",
        "                           extensions: [\"AMSmath.js\"]\n",
        "                           },\n",
        "                tex2jax: {\n",
        "                    inlineMath: [ ['$','$'], [\"\\\\(\",\"\\\\)\"] ],\n",
        "                    displayMath: [ ['$$','$$'], [\"\\\\[\",\"\\\\]\"] ]\n",
        "                },\n",
        "                displayAlign: 'center', // Change this to 'center' to center equations.\n",
        "                \"HTML-CSS\": {\n",
        "                    styles: {'.MathJax_Display': {\"margin\": 4}}\n",
        "                }\n",
        "        });\n",
        "</script>"
       ],
       "output_type": "pyout",
       "prompt_number": 2,
       "text": [
        "<IPython.core.display.HTML at 0x105658f50>"
       ]
      }
     ],
     "prompt_number": 2
    },
    {
     "cell_type": "code",
     "collapsed": false,
     "input": [],
     "language": "python",
     "metadata": {},
     "outputs": []
    }
   ],
   "metadata": {}
  }
 ]
}