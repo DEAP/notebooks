{
 "metadata": {
  "name": "SIGEvolution"
 },
 "nbformat": 3,
 "nbformat_minor": 0,
 "worksheets": [
  {
   "cells": [
    {
     "cell_type": "markdown",
     "metadata": {},
     "source": [
      "#DEAP - Enabling Nimbler Evolutions\n",
      "by Fran\u00e7ois-Michel De Rainville, F\u00e9lix-Antoine Fortin, Marc-Andr\u00e9 Gardner, Marc Parizeau, and Christian Gagn\u00e9\n",
      "\n",
      "DEAP is a Distributed Evolutionary Algorithm framework written in Python and designed to help researchers develop custom evolutionary algorithms. Its design philosophy promotes explicit algorithms and transparent data structures, in contrast with most other evolutionary computation softwares that tend to encapsulate standardized algorithms using the black-box approach. This philosophy sets it apart as a rapid prototyping framework for testing of new research ideas.\n",
      "\n",
      "![caption](files/deap_highlights.png)\n",
      "\n",
      "##Introduction\n",
      "\n",
      "The DEAP framework is designed over three following founding principals:\n",
      "\n",
      "1. Data structures are key to evolutionary computations. They must facilitate the implementation of algorithms and be easy to customize.\n",
      "2. Operator selection and algorithm parameters have strong influences on evolutions, while often being problem dependent. Users should be able to parametrize every aspect of the algorithms with minimal complexity.\n",
      "3. Evolutionary computations are usually embarrassingly parallel. Therefore, mechanisms that implement distribution paradigms should be trivial to use.\n",
      "\n",
      "With the help of its sister project SCOOP and the power of the Python programming language, DEAP implements these three principles in a simple and elegant design.\n",
      "\n",
      "###Data Structures\n",
      "\n",
      "A very important part of the success of any algorithm - if not the most important - is choosing the appropriate data structures. Freedom in type creation is fundamental in the process of designing evolutionary algorithms that solve real world problems. DEAP's *creator* module allows to\n",
      "- create classes with a single line of code (inheritance),\n",
      "- add attributes (composition),\n",
      "- regroup classes in a single module (sandboxing).\n",
      "\n",
      "In the following listing, we first create a *FitnessMin* class derived from the *Fitness* base class.\n",
      "\\input{code/creator_ex}\n",
      "The class is created with a *weights* attribute set to -1.0, indicating minimization of a single objective. Then we define with the same mechanism an *Individual* class inheriting from a *list* and composed of a fitness attribute.\n",
      "\\input{code/creator_ind}\n",
      "\n",
      "When an Individual is instantiated, its fitness property is initialized with an instance of the previously defined FitnessMin class. This is illustrated in the following example,\n",
      "\\input{code/creator_inst}\n",
      "where an individual is created from a list of binary values and its fitness value is set to the sum of its elements.\n",
      "Fitness values, in DEAP, are always multi-objectives with the single objective case being a tuple of one element. This tuple is instantiated by the comma following the sum operation.\n",
      "\n",
      "###Operators\n",
      "\n",
      "Operator selection is another crucial part of evolutionary algorithms. It must be straightforward and its parametrization intuitive. DEAP's *Toolbox* enables users to\n",
      "- create aliases for operators,\n",
      "- register operators' parameters,\n",
      "- interchange operators efficiently,\n",
      "- regroup all operators in a single structure.\n",
      "\n",
      "The next example presents the construction of a toolbox and how operators and their parameters are registered.\n",
      "\\input{code/toolbox_ex}\n",
      "The first operator is a one point crossover which is registered under the alias ``mate''. The second operator, a gaussian mutation, is registered with its parameters under the generic name ``mutate''.  Both operators are available from the \\textit{tools} module.\n",
      "\n",
      "During subsequent experiments, replacing the one point crossover by a two points crossover is as easy as substituting the third line of the previous listing by the following one.\n",
      "\\input{code/toolbox_ex2}\n",
      "Wherever the generic function named mate is used, the new two points crossover will be used instead.\n",
      "\n",
      "\\subsection*{Parallelization}\n",
      "DEAP is parallel ready. The idea is to use a \\texttt{map} operator for mapping data to function, for instance to evaluate fitness of individuals. By default, every toolbox is registered with the standard \\texttt{map} function of Python. For algorithms to evaluate individuals in parallel, one only needs to replace this alias by a parallel map such as the one provided by SCOOP~\\cite{3}, a library capable of distributing tasks over a cluster of computers.\n",
      "\\input{code/scoop}\n",
      "DEAP is also compatible with the \\textit{multiprocessing} standard module, if the user only cares to run on a single multicore machine.\n",
      "\\input{code/multiproc}\n",
      "\n",
      "With these powerful tools, DEAP allows scientists and researchers with little programming knowledge to easily implement distributed evolutionary algorithms.\n"
     ]
    },
    {
     "cell_type": "code",
     "collapsed": false,
     "input": [],
     "language": "python",
     "metadata": {},
     "outputs": []
    },
    {
     "cell_type": "code",
     "collapsed": false,
     "input": [],
     "language": "python",
     "metadata": {},
     "outputs": []
    }
   ],
   "metadata": {}
  }
 ]
}