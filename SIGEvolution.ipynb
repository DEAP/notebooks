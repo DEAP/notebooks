{
 "metadata": {
  "name": "SIGEvolution"
 },
 "nbformat": 3,
 "nbformat_minor": 0,
 "worksheets": [
  {
   "cells": [
    {
     "cell_type": "markdown",
     "metadata": {},
     "source": [
      "#DEAP - Enabling Nimbler Evolutions\n",
      "by Fran\u00e7ois-Michel De Rainville, F\u00e9lix-Antoine Fortin, Marc-Andr\u00e9 Gardner, Marc Parizeau, and Christian Gagn\u00e9\n",
      "\n",
      "<img src=\"files/images/deap_highlights.png\" width=\"400px\" style=\"float:right;margin-left:50px;\"/>\n",
      "\n",
      "DEAP is a Distributed Evolutionary Algorithm framework written in Python and designed to help researchers develop custom evolutionary algorithms. Its design philosophy promotes explicit algorithms and transparent data structures, in contrast with most other evolutionary computation softwares that tend to encapsulate standardized algorithms using the black-box approach. This philosophy sets it apart as a rapid prototyping framework for testing of new research ideas.\n",
      "\n",
      "##Introduction\n",
      "\n",
      "The DEAP framework is designed over three following founding principals:\n",
      "\n",
      "1. Data structures are key to evolutionary computations. They must facilitate the implementation of algorithms and be easy to customize.\n",
      "2. Operator selection and algorithm parameters have strong influences on evolutions, while often being problem dependent. Users should be able to parametrize every aspect of the algorithms with minimal complexity.\n",
      "3. Evolutionary computations are usually embarrassingly parallel. Therefore, mechanisms that implement distribution paradigms should be trivial to use.\n",
      "\n",
      "With the help of its sister project SCOOP and the power of the Python programming language, DEAP implements these three principles in a simple and elegant design.\n",
      "\n",
      "###Data Structures\n",
      "\n",
      "A very important part of the success of any algorithm - if not the most important - is choosing the appropriate data structures. Freedom in type creation is fundamental in the process of designing evolutionary algorithms that solve real world problems. DEAP's *creator* module allows to\n",
      "\n",
      "- create classes with a single line of code (inheritance),\n",
      "- add attributes (composition),\n",
      "- regroup classes in a single module (sandboxing).\n",
      "\n",
      "In the following listing, we first create a *FitnessMin* class derived from the *Fitness* base class.\n"
     ]
    },
    {
     "cell_type": "code",
     "collapsed": false,
     "input": [
      "from deap import base, creator\n",
      "creator.create(\"FitnessMin\", base.Fitness, weights=(-1.0,))"
     ],
     "language": "python",
     "metadata": {},
     "outputs": [],
     "prompt_number": 1
    },
    {
     "cell_type": "markdown",
     "metadata": {},
     "source": [
      "The class is created with a *weights* attribute set to -1.0, indicating minimization of a single objective. Then we define with the same mechanism an *Individual* class inheriting from a *list* and composed of a fitness attribute."
     ]
    },
    {
     "cell_type": "code",
     "collapsed": false,
     "input": [
      "creator.create(\"Individual\", list, fitness=creator.FitnessMin)"
     ],
     "language": "python",
     "metadata": {},
     "outputs": [],
     "prompt_number": 2
    },
    {
     "cell_type": "markdown",
     "metadata": {},
     "source": [
      "When an Individual is instantiated, its fitness property is initialized with an instance of the previously defined FitnessMin class. This is illustrated in the following example,"
     ]
    },
    {
     "cell_type": "code",
     "collapsed": false,
     "input": [
      "ind = creator.Individual([1,0,1,0,1])\n",
      "ind.fitness.values = (sum(ind),)"
     ],
     "language": "python",
     "metadata": {},
     "outputs": [],
     "prompt_number": 3
    },
    {
     "cell_type": "markdown",
     "metadata": {},
     "source": [
      "where an individual is created from a list of binary values and its fitness value is set to the sum of its elements.\n",
      "Fitness values, in DEAP, are always multi-objectives with the single objective case being a tuple of one element. This tuple is instantiated by the comma following the sum operation.\n",
      "\n",
      "###Operators\n",
      "\n",
      "Operator selection is another crucial part of evolutionary algorithms. It must be straightforward and its parametrization intuitive. DEAP's *Toolbox* enables users to\n",
      "\n",
      "- create aliases for operators,\n",
      "- register operators' parameters,\n",
      "- interchange operators efficiently,\n",
      "- regroup all operators in a single structure.\n",
      "\n",
      "The next example presents the construction of a toolbox and how operators and their parameters are registered."
     ]
    },
    {
     "cell_type": "code",
     "collapsed": false,
     "input": [
      "from deap import tools\n",
      "toolbox = base.Toolbox()\n",
      "toolbox.register(\"mate\", tools.cxOnePoint)\n",
      "toolbox.register(\"mutate\", tools.mutGaussian, mu=0.0, std=1.0)"
     ],
     "language": "python",
     "metadata": {},
     "outputs": [],
     "prompt_number": 4
    },
    {
     "cell_type": "markdown",
     "metadata": {},
     "source": [
      "The first operator is a one point crossover which is registered under the alias \"mate\". The second operator, a gaussian mutation, is registered with its parameters under the generic name \"mutate\".  Both operators are available from the *tools* module.\n",
      "\n",
      "During subsequent experiments, replacing the one point crossover by a two points crossover is as easy as substituting the third line of the previous listing by the following one."
     ]
    },
    {
     "cell_type": "code",
     "collapsed": false,
     "input": [
      "toolbox.register(\"mate\", tools.cxTwoPoints)"
     ],
     "language": "python",
     "metadata": {},
     "outputs": [],
     "prompt_number": 5
    },
    {
     "cell_type": "markdown",
     "metadata": {},
     "source": [
      "Wherever the generic function named mate is used, the new two points crossover will be used instead.\n",
      "\n",
      "###Parallelization\n",
      "DEAP is parallel ready. The idea is to use a `map` operator for mapping data to function, for instance to evaluate fitness of individuals. By default, every toolbox is registered with the standard `map` function of Python. For algorithms to evaluate individuals in parallel, one only needs to replace this alias by a parallel map such as the one provided by [SCOOP](#scoop), a library capable of distributing tasks over a cluster of computers."
     ]
    },
    {
     "cell_type": "code",
     "collapsed": false,
     "input": [
      "from scoop import futures\n",
      "toolbox.register(\"map\", futures.map)"
     ],
     "language": "python",
     "metadata": {},
     "outputs": [],
     "prompt_number": 6
    },
    {
     "cell_type": "markdown",
     "metadata": {},
     "source": [
      "DEAP is also compatible with the *multiprocessing* standard module, if the user only cares to run on a single multicore machine."
     ]
    },
    {
     "cell_type": "code",
     "collapsed": false,
     "input": [
      "import multiprocessing\n",
      "pool = multiprocessing.Pool()\n",
      "toolbox.register(\"map\", pool.map)"
     ],
     "language": "python",
     "metadata": {},
     "outputs": [],
     "prompt_number": 7
    },
    {
     "cell_type": "markdown",
     "metadata": {},
     "source": [
      "With these powerful tools, DEAP allows scientists and researchers with little programming knowledge to easily implement distributed evolutionary algorithms."
     ]
    },
    {
     "cell_type": "markdown",
     "metadata": {},
     "source": [
      "##Preaching by Example\n",
      "\n",
      "The best introduction to evolutionary computation with DEAP consists in presenting simple yet compelling examples. The following sections set forth how algorithms are easy to implement while keeping a strong grip on how they behave. The first section introduces a classical genetic algorithm and exposes different levels of explicitness. The following section presents how genetic programming is implemented in DEAP and the versatility of the GP module. The final example demonstrate how easy it is to implement a generic distributed island model with SCOOP.\n",
      "\n",
      "###A Simple Genetic Algorithm\n",
      "A commonly used example in evolutionary computation is the OneMax problem which consists in maximizing the number of ones by solution. The more ones an individual contains, the higher its fitness value. Using a genetic algorithm to find such an individual is relatively straightforward. Applying crossovers and mutations on a population of randomly generated binary individuals and selecting the fittest ones at each generation usually lead quickly to a perfect solution. A problem of this simplicity should be solved with a very simple program."
     ]
    },
    {
     "cell_type": "code",
     "collapsed": false,
     "input": [
      "import random\n",
      "from deap import algorithms, base, creator, tools\n",
      "\n",
      "creator.create(\"FitnessMax\", base.Fitness, weights=(1.0,))\n",
      "creator.create(\"Individual\", list, fitness=creator.FitnessMax)\n",
      "\n",
      "def evalOneMax(individual):\n",
      "    return (sum(individual),)\n",
      "\n",
      "toolbox = base.Toolbox()\n",
      "toolbox.register(\"attr_bool\", random.randint, 0, 1)\n",
      "toolbox.register(\"individual\", tools.initRepeat, creator.Individual, toolbox.attr_bool, n=100)\n",
      "toolbox.register(\"population\", tools.initRepeat, list, toolbox.individual)\n",
      "toolbox.register(\"evaluate\", evalOneMax)\n",
      "toolbox.register(\"mate\", tools.cxTwoPoints)\n",
      "toolbox.register(\"mutate\", tools.mutFlipBit, indpb=0.05)\n",
      "toolbox.register(\"select\", tools.selTournament, tournsize=3)\n",
      "\n",
      "if __name__ == \"__main__\":\n",
      "    pop = toolbox.population(n=300)\n",
      "    algorithms.eaSimple(pop, toolbox, cxpb=0.5, mutpb=0.2, ngen=40, verbose=False)\n",
      "    print(tools.selBest(pop, k=1))"
     ],
     "language": "python",
     "metadata": {},
     "outputs": [
      {
       "output_type": "stream",
       "stream": "stdout",
       "text": [
        "[[1, 1, 1, 1, 1, 1, 1, 1, 1, 1, 1, 1, 1, 1, 1, 1, 1, 1, 1, 1, 1, 1, 1, 1, 1, 1, 1, 1, 1, 1, 1, 1, 1, 1, 1, 1, 1, 1, 1, 1, 1, 1, 1, 1, 1, 1, 1, 1, 1, 1, 1, 1, 1, 1, 1, 1, 1, 1, 1, 1, 1, 1, 1, 1, 1, 1, 1, 1, 1, 1, 1, 1, 1, 1, 1, 1, 1, 1, 1, 1, 1, 1, 1, 1, 1, 1, 1, 1, 1, 1, 1, 1, 1, 1, 1, 1, 1, 1, 1, 1]]\n"
       ]
      }
     ],
     "prompt_number": 8
    },
    {
     "cell_type": "markdown",
     "metadata": {},
     "source": [
      "The preceeding code presents all that is needed to solve the OneMax problem with DEAP. The first two lines import the necessary modules. Next, on lines 4 and 5, two types are created; a maximizing fitness - note the positive `weights` -, and a list individual composed with an instance of this maximizing `fitness`. Then, on lines 7 and 8, the evaluation function is defined. It counts the number of ones in a binary list by summing its elements - note again the one element tuple corresponding to a single objective. Subsequently, a Toolbox is instantiated in which the necessary operators are registered. The first operator, on line 11, produces binary values, in this case integers in $[0, 1]$, using the standard *random* module. The next operator, on line 12, instantiates an `Individual` of `n=100` bits by calling repeatedly the registered `attr_bool` operator. The same repetition initializer is used on the next line to produce a population as a list of individuals. The missing number of repetition `n` will be given later in the program. Subsequently, on lines 14 to 17, the evaluation, crossover, mutation and selection operators are registered with all of their parameters.\n",
      "\n",
      "The main program starts at line 19. First, a population of `n=300` individuals is instantiated. Then, the algorithm, provided with the population and the toolbox, is run for `ngen=40` generations with `cxpb=50%` chances of mating and `mutpb=20%` chances of mutating an individual for each generation. Finally, on line 22, the best individual of the resulting population is selected and displayed on screen. The double list of the printed individual is related to the select functions that return in all cases a list, here of one element.\n",
      "\n",
      "###Controlling Everything\n",
      "When developing, researching or using evolutionary algorithms, pre-implemented canned algorithms seldom do everything that is needed. Usually, developers/researchers/users have to dig into the framework to tune, add or replace a part of the original algorithm. DEAP breaks with the traditional black-box approach on that precise point; it encourages users to rapidly build their own algorithms. With the different tools provided by DEAP, it is possible to design a nimble algorithm that tackles most any problem at hand."
     ]
    },
    {
     "cell_type": "code",
     "collapsed": false,
     "input": [
      "import random\n",
      "from deap import algorithms, base, creator, tools\n",
      "\n",
      "creator.create(\"FitnessMax\", base.Fitness, weights=(1.0,))\n",
      "creator.create(\"Individual\", list, fitness=creator.FitnessMax)\n",
      "\n",
      "def evalOneMax(individual):\n",
      "    return (sum(individual),)\n",
      "\n",
      "toolbox = base.Toolbox()\n",
      "toolbox.register(\"attr_bool\", random.randint, 0, 1)\n",
      "toolbox.register(\"individual\", tools.initRepeat, creator.Individual, toolbox.attr_bool, n=100)\n",
      "toolbox.register(\"population\", tools.initRepeat, list, toolbox.individual)\n",
      "toolbox.register(\"evaluate\", evalOneMax)\n",
      "toolbox.register(\"mate\", tools.cxTwoPoints)\n",
      "toolbox.register(\"mutate\", tools.mutFlipBit, indpb=0.05)\n",
      "toolbox.register(\"select\", tools.selTournament, tournsize=3)\n",
      "\n",
      "if __name__ == \"__main__\":\n",
      "    pop = toolbox.population(n=300)\n",
      "    \n",
      "    ngen, cxpb, mutpb = 40, 0.5, 0.2\n",
      "    fitnesses = toolbox.map(toolbox.evaluate, pop)\n",
      "    for ind, fit in zip(pop, fitnesses):\n",
      "        ind.fitness.values = fit\n",
      "\n",
      "    for g in range(ngen):\n",
      "        pop = toolbox.select(pop, k=len(pop))\n",
      "        pop = algorithms.varAnd(pop, toolbox, cxpb, mutpb)\n",
      "        \n",
      "        invalids = [ind for ind in pop if not ind.fitness.valid]\n",
      "        fitnesses = toolbox.map(toolbox.evaluate, invalids)\n",
      "        for ind, fit in zip(invalids, fitnesses):\n",
      "            ind.fitness.values = fit\n",
      "    \n",
      "    print(tools.selBest(pop, k=1))"
     ],
     "language": "python",
     "metadata": {},
     "outputs": [
      {
       "output_type": "stream",
       "stream": "stdout",
       "text": [
        "[[1, 1, 1, 1, 1, 1, 1, 1, 1, 1, 1, 1, 1, 1, 1, 1, 1, 1, 1, 1, 1, 1, 1, 1, 1, 1, 1, 1, 1, 1, 1, 1, 1, 1, 1, 1, 1, 1, 1, 1, 1, 1, 1, 1, 1, 1, 1, 1, 1, 1, 1, 1, 1, 1, 1, 1, 1, 1, 1, 1, 1, 1, 1, 1, 1, 1, 1, 1, 1, 1, 1, 1, 1, 1, 1, 1, 1, 1, 1, 1, 1, 1, 1, 1, 1, 1, 1, 1, 1, 1, 1, 1, 1, 1, 1, 1, 1, 1, 1, 1]]\n"
       ]
      }
     ],
     "prompt_number": 9
    },
    {
     "cell_type": "markdown",
     "metadata": {},
     "source": [
      "Starting from the previous OneMax solution, a first decomposition of the algorithm replaces the canned `eaSimple` function (line 21) by the generational loop illustrated in between lines 22 and 33. Again, this example is exhaustive but still very simple. On the first 3 new lines (23 to 25), the evaluation is applied to every individual in the population by the `map` function contained in every toolbox. Next, a loop over both the population and the evaluated fitnesses sets each individual's fitness value. Thereafter, the generational loop begins. It starts by selecting `k` individuals from the population. Then, the selected individuals are *var* ied by the crossover *and* mutation of the toolbox. Once modified, the individuals are evaluated for the next iteration. Only freshly produced individuals have to be evaluated; they are filtered by their fitness validity (line 31). This version of the program provides the possibility to change the stopping criterion and add components to the evolution."
     ]
    },
    {
     "cell_type": "code",
     "collapsed": false,
     "input": [
      "import random\n",
      "from deap import algorithms, base, creator, tools\n",
      "\n",
      "creator.create(\"FitnessMax\", base.Fitness, weights=(1.0,))\n",
      "creator.create(\"Individual\", list, fitness=creator.FitnessMax)\n",
      "\n",
      "def evalOneMax(individual):\n",
      "    return (sum(individual),)\n",
      "\n",
      "toolbox = base.Toolbox()\n",
      "toolbox.register(\"attr_bool\", random.randint, 0, 1)\n",
      "toolbox.register(\"individual\", tools.initRepeat, creator.Individual, toolbox.attr_bool, n=100)\n",
      "toolbox.register(\"population\", tools.initRepeat, list, toolbox.individual)\n",
      "toolbox.register(\"evaluate\", evalOneMax)\n",
      "toolbox.register(\"mate\", tools.cxTwoPoints)\n",
      "toolbox.register(\"mutate\", tools.mutFlipBit, indpb=0.05)\n",
      "toolbox.register(\"select\", tools.selTournament, tournsize=3)\n",
      "\n",
      "if __name__ == \"__main__\":\n",
      "    pop = toolbox.population(n=300)\n",
      "    \n",
      "    ngen, cxpb, mutpb = 40, 0.5, 0.2\n",
      "    fitnesses = toolbox.map(toolbox.evaluate, pop)\n",
      "    for ind, fit in zip(pop, fitnesses):\n",
      "        ind.fitness.values = fit\n",
      "\n",
      "    for g in range(ngen):\n",
      "        pop = toolbox.select(pop, k=len(pop))\n",
      "        pop = [toolbox.clone(ind) for ind in pop]\n",
      "\n",
      "        for child1, child2 in zip(pop[::2], pop[1::2]):\n",
      "            if random.random() < cxpb:\n",
      "                toolbox.mate(child1, child2)\n",
      "                del child1.fitness.values, child2.fitness.values\n",
      "\n",
      "        for mutant in pop:\n",
      "            if random.random() < mutpb:\n",
      "                toolbox.mutate(mutant)\n",
      "                del mutant.fitness.values\n",
      "        \n",
      "        invalids = [ind for ind in pop if not ind.fitness.valid]\n",
      "        fitnesses = toolbox.map(toolbox.evaluate, invalids)\n",
      "        for ind, fit in zip(invalids, fitnesses):\n",
      "            ind.fitness.values = fit\n",
      "    \n",
      "    print(tools.selBest(pop, k=1))"
     ],
     "language": "python",
     "metadata": {},
     "outputs": [
      {
       "output_type": "stream",
       "stream": "stdout",
       "text": [
        "[[1, 1, 1, 1, 1, 1, 1, 1, 1, 1, 1, 1, 1, 1, 1, 1, 1, 1, 1, 1, 1, 1, 1, 1, 1, 1, 1, 1, 1, 1, 1, 1, 1, 1, 1, 1, 1, 1, 1, 1, 1, 1, 1, 1, 1, 1, 1, 1, 1, 1, 1, 1, 1, 1, 1, 1, 1, 1, 1, 1, 1, 1, 1, 1, 1, 1, 1, 1, 1, 1, 1, 1, 1, 1, 1, 1, 1, 1, 1, 1, 1, 1, 1, 1, 1, 1, 1, 1, 1, 1, 1, 1, 1, 1, 1, 1, 1, 1, 1, 1]]\n"
       ]
      }
     ],
     "prompt_number": 10
    },
    {
     "cell_type": "markdown",
     "metadata": {},
     "source": [
      "An even greater level of detail can be obtained by substituting the `varAnd` function by its full content, presented in last code snippet. The added lines (29 to 39) start with the duplication of the population by the `clone` tool available in every toolbox. Then, the crossover is applied to a portion of consecutive individuals . Each modified individual sees its fitness invalidated on line 26. Finally, a percentage of the population is mutated and their fitness is also deleted. This variant of the algorithm provides control over the application order and the number of operators, among many other aspects.\n",
      "\n",
      "The explicitness in which algorithm are written with DEAP clarifies the experiments. This eliminates any ambiguity on the different aspects of the algorithm that could, when overlooked, jeopardize the reproducibility and interpretation of results. With this level of detail, users are provided with unprecedented agility in their research.\n",
      "\n",
      "###Genetic Programming\n",
      "DEAP also includes every component necessary to design genetic programming algorithms with the same ease as for genetic algorithms. For example, the most commonly used tree individual can be created as following."
     ]
    },
    {
     "cell_type": "code",
     "collapsed": false,
     "input": [
      "import operator, random\n",
      "from deap import base, creator, tools, gp\n",
      "\n",
      "creator.create(\"FitnessMin\", base.Fitness, weights=(-1.0,))\n",
      "creator.create(\"Individual\", gp.PrimitiveTree, fitness=creator.FitnessMin)"
     ],
     "language": "python",
     "metadata": {},
     "outputs": [],
     "prompt_number": 11
    },
    {
     "cell_type": "markdown",
     "metadata": {},
     "source": [
      "The primitive tree is implemented in the framework since it is one of the few data types the Python standard library does not provide. The primitives and terminals that will populate the trees are regrouped in a primitive set. The following listing presents a primitive set instantiation with basic operators provided by the standard library *operator* module."
     ]
    },
    {
     "cell_type": "code",
     "collapsed": false,
     "input": [
      "pset = gp.PrimitiveSet(name=\"MAIN\", arity=1)\n",
      "pset.addPrimitive(operator.add, arity=2)\n",
      "pset.addPrimitive(operator.sub, arity=2)\n",
      "pset.addPrimitive(operator.mul, arity=2)\n",
      "pset.addPrimitive(operator.neg, arity=1)\n",
      "pset.renameArguments(ARG0=\"x\")"
     ],
     "language": "python",
     "metadata": {},
     "outputs": [],
     "prompt_number": 12
    },
    {
     "cell_type": "markdown",
     "metadata": {},
     "source": [
      "Functions that initialize individuals and populations are registered in a toolbox just as in the preceding genetic algorithm example. DEAP implements the three initialization methods proposed by [Koza](#koza) to generate trees: full, grow and ramped."
     ]
    },
    {
     "cell_type": "code",
     "collapsed": false,
     "input": [
      "toolbox = base.Toolbox()\n",
      "toolbox.register(\"expr\", gp.genFull, pset=pset, min_=1, max_=3)\n",
      "toolbox.register(\"individual\", tools.initIterate, creator.Individual, toolbox.expr)\n",
      "toolbox.register(\"population\", tools.initRepeat, list, toolbox.individual)"
     ],
     "language": "python",
     "metadata": {},
     "outputs": [],
     "prompt_number": 13
    },
    {
     "cell_type": "markdown",
     "metadata": {},
     "source": [
      "We may now introduce an example of symbolic regression evaluation function. First, the `gp.lambdify` function transforms the primitive tree into its executable form, an anonymous lambda function, using a primitive set. Then, the rest is simple maths: we  compute the root mean squared error between the individual's program and the target $x^4+x^3+x^2+x$ on a set of points."
     ]
    },
    {
     "cell_type": "code",
     "collapsed": false,
     "input": [
      "def evaluateRegression(individual, points, pset):\n",
      "    func = gp.lambdify(expr=individual, pset=pset)\n",
      "    sqerrors = ((func(x) - x**4 - x**3 - x**2 - x)**2 for x in points)\n",
      "    return math.sqrt(sum(sqerrors) / len(points)),"
     ],
     "language": "python",
     "metadata": {},
     "outputs": [],
     "prompt_number": 14
    },
    {
     "cell_type": "markdown",
     "metadata": {},
     "source": [
      "The remaining part of the program is identical to first OneMax example from line 15 to 22, except for the crossover and mutation operator that are replaced by their genetic programming counterparts."
     ]
    },
    {
     "cell_type": "code",
     "collapsed": false,
     "input": [
      "toolbox.register(\"evaluate\", evaluateRegression, points=[x/10. for x in range(-10, 10)],\n",
      "                 pset=pset)\n",
      "toolbox.register(\"mate\", gp.cxOnePoint)\n",
      "toolbox.register(\"expr_mut\", gp.genFull, min_=0, max_=2)\n",
      "toolbox.register(\"mutate\", gp.mutUniform, expr=toolbox.expr_mut, pset=pset)\n",
      "toolbox.register(\"select\", tools.selTournament, tournsize=3)\n",
      "\n",
      "if __name__ == \"__main__\":\n",
      "    pop = toolbox.population(n=300)\n",
      "    algorithms.eaSimple(pop, toolbox, cxpb=0.5, mutpb=0.2, ngen=40, verbose=False)\n",
      "    bests = tools.selBest(pop, k=1)\n",
      "    print(gp.stringify(bests[0]))\n",
      "    print(bests[0].fitness)"
     ],
     "language": "python",
     "metadata": {},
     "outputs": [
      {
       "output_type": "stream",
       "stream": "stdout",
       "text": [
        "sub(mul(x, add(mul(x, add(mul(x, x), x)), x)), neg(x))\n",
        "(7.15749512893306e-17,)\n"
       ]
      }
     ],
     "prompt_number": 15
    },
    {
     "cell_type": "markdown",
     "metadata": {},
     "source": [
      "Furthermore, using external libraries such as [NetworkX](#networkx) and [PyGraphviz](#pygraphviz), the best primitive trees can be visualized as follow."
     ]
    },
    {
     "cell_type": "code",
     "collapsed": false,
     "input": [
      "import matplotlib.pyplot as plt\n",
      "import networkx\n",
      "\n",
      "nodes, edges, labels = gp.graph(bests[0])\n",
      "graph = networkx.Graph()\n",
      "graph.add_nodes_from(nodes)\n",
      "graph.add_edges_from(edges)\n",
      "pos = networkx.graphviz_layout(graph, prog=\"dot\")\n",
      "\n",
      "plt.figure(figsize=(7,7))\n",
      "networkx.draw_networkx_nodes(graph, pos, node_size=900, node_color=\"w\")\n",
      "networkx.draw_networkx_edges(graph, pos)\n",
      "networkx.draw_networkx_labels(graph, pos, labels)\n",
      "plt.axis(\"off\")\n",
      "plt.show()"
     ],
     "language": "python",
     "metadata": {},
     "outputs": [
      {
       "output_type": "display_data",
       "png": "[encoded data removed]"
      }
     ],
     "prompt_number": 16
    },
    {
     "cell_type": "markdown",
     "metadata": {},
     "source": [
      "The primitives are not limited to standard library operators, any function or instance method can be added to a primitive set. Terminals can be any type of objects and even functions without argument. The next example takes advantage of this flexibility and reduces the runtime of the previous example by using [Numpy](#numpy), a library of high-level mathematical functions operating on multi-dimensional arrays. "
     ]
    },
    {
     "cell_type": "code",
     "collapsed": false,
     "input": [
      "import numpy, random\n",
      "from deap import algorithms, base, creator, tools, gp\n",
      "\n",
      "creator.create(\"FitnessMin\", base.Fitness, weights=(-1.0,))\n",
      "creator.create(\"Tree\", gp.PrimitiveTree, fitness=creator.FitnessMin)\n",
      "\n",
      "pset = gp.PrimitiveSet(name=\"MAIN\", arity=1)\n",
      "pset.addPrimitive(numpy.add, arity=2)\n",
      "pset.addPrimitive(numpy.subtract, arity=2)\n",
      "pset.addPrimitive(numpy.multiply, arity=2)\n",
      "pset.addPrimitive(numpy.negative, arity=1)\n",
      "\n",
      "def evaluateRegression(individual, points, pset):\n",
      "    func = gp.lambdify(expr=individual, pset=pset)\n",
      "    sqerrors = (func(points)-(points**4 + points**3 + points**2 + points))**2\n",
      "    return (numpy.sqrt(sum(sqerrors) / len(points)),)\n",
      "\n",
      "toolbox = base.Toolbox()\n",
      "toolbox.register(\"expr\", gp.genFull, pset=pset, min_=1, max_=3)\n",
      "toolbox.register(\"individual\", tools.initIterate, creator.Tree, toolbox.expr)\n",
      "toolbox.register(\"population\", tools.initRepeat, list, toolbox.individual)\n",
      "toolbox.register(\"evaluate\", evaluateRegression, points=numpy.linspace(-1, 1, 1000), pset=pset)\n",
      "toolbox.register(\"mate\", gp.cxOnePoint)\n",
      "toolbox.register(\"expr_mut\", gp.genFull, min_=0, max_=2)\n",
      "toolbox.register(\"mutate\", gp.mutUniform, expr=toolbox.expr_mut, pset=pset)\n",
      "toolbox.register(\"select\", tools.selTournament, tournsize=3)\n",
      "\n",
      "if __name__ == \"__main__\":\n",
      "    pop = toolbox.population(n=300)\n",
      "    algorithms.eaSimple(pop, toolbox, cxpb=0.5, mutpb=0.2, ngen=40, verbose=False)\n",
      "    print(gp.stringify(tools.selBest(pop, k=1)[0]))"
     ],
     "language": "python",
     "metadata": {},
     "outputs": [
      {
       "output_type": "stream",
       "stream": "stdout",
       "text": [
        "add(ARG0, multiply(ARG0, add(multiply(add(multiply(ARG0, ARG0), ARG0), ARG0), ARG0)))\n"
       ]
      }
     ],
     "prompt_number": 17
    },
    {
     "cell_type": "markdown",
     "metadata": {},
     "source": [
      "The idea is to evolve a program whose argument is a vector instead of a scalar. Most of the code remains identical; only minor modifications to the primitive set and evaluation function are required. First, we replace the operators in the primitive set by Numpy operators that work on  vectors (lines 8 to 11). Then, we remove the loop from the evaluation function (line 15), since it is implicit in the operators. Finally, we replace the `sum` and `sqrt` functions by their faster Numpy equivalent (line 16) and our regression problem is now vectorized. The execution is thereby significantly improved as the scalar example runs in around 3 seconds to optimize the regression on 20 points, while the vectorial runtime is identical but for a regression on 1000 points. By modifying only 6 lines of code, not only are we able to vectorize our problem, but the runtime is also speed up by a **factor 50**!\n",
      "\n",
      "In addition to the wide support of function and object types, DEAP GP module also supports automatically defined functions (ADF), strongly typed genetic programming (STGP), and object-oriented genetic programming (OOGP)."
     ]
    },
    {
     "cell_type": "markdown",
     "metadata": {},
     "source": [
      "##Evolution Support\n",
      "DEAP comes with several supporting tools that can be easily integrated into any algorithms. This section presents some of them in the context of the OneMax example.\n",
      "\n",
      "The first tool, *Statistics*, computes statistics on arbitrary attributes of designated objects, usually the fitness individuals. The attribute is specified by a key function at the statistics object instantiation before starting the algorithm"
     ]
    },
    {
     "cell_type": "code",
     "collapsed": false,
     "input": [
      "stats = tools.Statistics(key=operator.attrgetter(\"fitness.values\"))"
     ],
     "language": "python",
     "metadata": {},
     "outputs": [],
     "prompt_number": 18
    },
    {
     "cell_type": "markdown",
     "metadata": {},
     "source": [
      "This is followed by the registration of the statistical functions as for a toolbox."
     ]
    },
    {
     "cell_type": "code",
     "collapsed": false,
     "input": [
      "stats.register(\"max\", numpy.max)\n",
      "stats.register(\"mean\", numpy.mean)\n",
      "stats.register(\"min\", numpy.min)"
     ],
     "language": "python",
     "metadata": {},
     "outputs": [],
     "prompt_number": 19
    },
    {
     "cell_type": "markdown",
     "metadata": {},
     "source": [
      "Ultimately, at every generation, a statistical record of the population is compiled using the registered functions."
     ]
    },
    {
     "cell_type": "code",
     "collapsed": false,
     "input": [
      "record = stats.compile(pop)\n",
      "print(record)"
     ],
     "language": "python",
     "metadata": {},
     "outputs": [
      {
       "output_type": "stream",
       "stream": "stdout",
       "text": [
        "{'max': 3.0674822757727958, 'mean': 0.29993087833702775, 'min': 1.2992604035586602e-16}\n"
       ]
      }
     ],
     "prompt_number": 20
    },
    {
     "cell_type": "markdown",
     "metadata": {},
     "source": [
      "The record produced a dictionary containing the registered keywords and the values computed by the corresponding functions. These last lines added after the evaluation part will produce a screen log of the evolution statistics.\n",
      "\n",
      "For posterity and better readability, statistics can also be logged in a *Logbook*. This object is simply a list of recorded dictionaries that can be printed with a nice layout. For example, the following lines create a new logbook, then record the previously computed statistics and prints them to the screen."
     ]
    },
    {
     "cell_type": "code",
     "collapsed": false,
     "input": [
      "logbook = tools.Logbook()\n",
      "logbook.record(gen=0, nevals=300, fitness=record)\n",
      "print(logbook)"
     ],
     "language": "python",
     "metadata": {},
     "outputs": [
      {
       "output_type": "stream",
       "stream": "stdout",
       "text": [
        "      \t   \t            fitness             \n",
        "      \t   \t--------------------------------\n",
        "nevals\tgen\tmax    \tmin        \tmean    \n",
        "300   \t0  \t3.06748\t1.29926e-16\t0.299931\n"
       ]
      }
     ],
     "prompt_number": 21
    },
    {
     "cell_type": "markdown",
     "metadata": {},
     "source": [
      "The next tool, named *Hall of Fame*, preserves the best individuals that appeared during an evolution. At every generation, it scans the population and saves the individuals in a separate archive that does not interact with the population. If the best solution disappears during the evolution, it will still be available in the hall of fame. The hall of fame can be provided as an argument to the algorithms just like the following."
     ]
    },
    {
     "cell_type": "code",
     "collapsed": false,
     "input": [
      "halloffame = tools.HallOfFame(maxsize=10)\n",
      "pop = toolbox.population(n=300)\n",
      "pop, logbook = algorithms.eaSimple(pop, toolbox, cxpb=0.5, mutpb=0.2,\n",
      "                                   ngen=40, halloffame=halloffame, verbose=False)"
     ],
     "language": "python",
     "metadata": {},
     "outputs": [],
     "prompt_number": 22
    },
    {
     "cell_type": "markdown",
     "metadata": {},
     "source": [
      "Moreover, the hall of fame can be updated manually right after the population is evaluated with the following line of code."
     ]
    },
    {
     "cell_type": "code",
     "collapsed": false,
     "input": [
      "halloffame.update(pop)"
     ],
     "language": "python",
     "metadata": {},
     "outputs": [],
     "prompt_number": 23
    },
    {
     "cell_type": "markdown",
     "metadata": {},
     "source": [
      "The hall of fame proposes a list interface where the individuals are sorted in descending order of fitness. Thus, the fittest solution can be retrieved by accessing the list's first element."
     ]
    },
    {
     "cell_type": "code",
     "collapsed": false,
     "input": [
      "best = halloffame[0]"
     ],
     "language": "python",
     "metadata": {},
     "outputs": [],
     "prompt_number": 24
    },
    {
     "cell_type": "markdown",
     "metadata": {},
     "source": [
      "A Pareto dominance version of the hall of fame is also available. The *Pareto Front* maintains an archive of non-dominated individuals along the evolution instead of sorting them lexicographically. It is used exactly as the standard hall of fame.\n",
      "\n",
      "Another tool, called the *History*, tracks the genealogy of the individuals in a population. By wrapping the variation operators, the history saves the parents of each individual. This feature is added to the variation operators of the toolbox with the following lines."
     ]
    },
    {
     "cell_type": "code",
     "collapsed": false,
     "input": [
      "history = tools.History()\n",
      "toolbox.decorate(\"mate\", history.decorator)\n",
      "toolbox.decorate(\"mutate\", history.decorator)"
     ],
     "language": "python",
     "metadata": {},
     "outputs": [],
     "prompt_number": 25
    },
    {
     "cell_type": "markdown",
     "metadata": {},
     "source": [
      "It is therefore possible to determine the genesis of individuals. The next code snippet presents the genealogy of the best individual of the symbolic regression example during the last five iterations. The graph is produced by the NetworkX library and the following listing."
     ]
    },
    {
     "cell_type": "code",
     "collapsed": false,
     "input": [
      "halloffame = tools.HallOfFame(maxsize=1)\n",
      "pop = toolbox.population(n=300)\n",
      "pop, logbook = algorithms.eaSimple(pop, toolbox, cxpb=0.5, mutpb=0.2,\n",
      "                                   ngen=40, halloffame=halloffame, verbose=False)\n",
      "\n",
      "h = history.getGenealogy(halloffame[0], max_depth=5)\n",
      "graph = networkx.DiGraph(h)\n",
      "graph = graph.reverse()     # Make the grah top-down\n",
      "colors = [toolbox.evaluate(history.genealogy_history[i])[0] for i in graph]\n",
      "pos = networkx.graphviz_layout(graph, prog=\"dot\")\n",
      "networkx.draw(graph, pos, node_color=colors)\n",
      "cb = plt.colorbar()\n",
      "cb.set_label(\"Error\")\n",
      "plt.show()"
     ],
     "language": "python",
     "metadata": {},
     "outputs": [
      {
       "output_type": "display_data",
       "png": "[encoded data removed]"
      }
     ],
     "prompt_number": 26
    },
    {
     "cell_type": "markdown",
     "metadata": {},
     "source": [
      "The last presented tool is a checkpointing facility. Rather than a DEAP object, checkpointing is ensured by the powerful pickle module available in the standard library. Pickle is a module that can serialize almost any Python object. Checkpointing only requires selecting objects that shall be preserved and the write frequency. This is exactly what is done in the following lines that can be added at the end of a generational loop."
     ]
    },
    {
     "cell_type": "code",
     "collapsed": false,
     "input": [
      "import pickle\n",
      "\n",
      "freq = 5\n",
      "if g % freq == 0:\n",
      "    cp = dict(population=pop, generation=g, rndstate=random.getstate())\n",
      "    pickle.dump(cp, open(\"checkpoint.pkl\", \"w\"))"
     ],
     "language": "python",
     "metadata": {},
     "outputs": [],
     "prompt_number": 27
    },
    {
     "cell_type": "markdown",
     "metadata": {},
     "source": [
      "Reloading the data is as simple as reading the pickled dictionary and accessing its attributes."
     ]
    },
    {
     "cell_type": "code",
     "collapsed": true,
     "input": [
      "cp = pickle.load(open(\"checkpoint.pkl\", \"r\"))\n",
      "pop = cp[\"population\"]\n",
      "g = cp[\"generation\"]\n",
      "random.setstate(cp[\"rndstate\"])"
     ],
     "language": "python",
     "metadata": {},
     "outputs": [],
     "prompt_number": 28
    },
    {
     "cell_type": "markdown",
     "metadata": {},
     "source": [
      "This simple mechanism provides fault tolerance to any sort of evolutionary algorithms implemented with DEAP. This happens to be critical when exploiting large computational resources where chances of failure grows quickly with the number of processors. Even in very stable execution environments, checkpoints can significantly reduce the amount of time spent on experimentation by allowing evolutions to restart and continue beyond the original stopping criteria.\n",
      "\n",
      "##Conclusion\n",
      "DEAP proposes an agile framework to easily prototype and execute evolutionary algorithms. Its creator module is instrumental for building new types fitting the problem at hand. Its toolbox module gathers all necessary operators and their arguments in a single handy place. Its design provides straightforward distributed execution with multiple distribution libraries. The examples presented only cover a small part of DEAP's capabilities that include evolution strategies (including CMA-ES), multi-objective optimization (NSGA-II and SPEA-II), co-evolution, particle swarm optimization, as well as many other benchmarks and examples.\n",
      "\n",
      "After more than 3 years of development, DEAP version 1.0 has been released in July 2013.\n",
      "DEAP is an open source software, licensed under LGPL, developed primarily at the Computer Vision and Systems Laboratory of Universit\u00e9 Laval, Qu\u00e9bec, Canada. DEAP is compatible with Python 2 and 3. It has a single dependency on Numpy for computing statistics and running CMA-ES. Try it out and become nimbler too: <http://deap.gel.ulaval.ca>."
     ]
    },
    {
     "cell_type": "markdown",
     "metadata": {},
     "source": [
      "##References\n",
      "\n",
      "- [1] F.-A. Fortin, F.-M. De Rainville, M.-A. Gardner, M. Parizeau, and C. Gagn\u00e9.\n",
      "DEAP: Evolutionary Algorithms Made Easy.\n",
      "*Journal of Machine Learning Research*,\n",
      "13:2171--2175, 2012.\n",
      "\n",
      "- [2] F.-M. De Rainville, F.-A. Fortin, M.-A. Gardner, M. Parizeau, and C. Gagn\u00e9.\n",
      "DEAP: A Python Framework for Evolutionary Algorithms. \n",
      "*In Companion Proceedings of the Genetic and Evolutionary Computation Conference*,\n",
      "pages 85--92, 2012.\n",
      "\n",
      "- <a id=\"scoop\">[3]</a> Y. Hold-Geoffroy, O. Gagnon, and M. Parizeau.\n",
      "SCOOP: Scalable COncurrent Operations in Python.\n",
      "<http://www.pyscoop.org/>\n",
      "\n",
      "- <a id=\"koza\">[4]</a> J. R. Koza.\n",
      "Genetic Programming - On the Programming of Computers by Means of Natural Selection.\n",
      "MIT Press, 1992.\n",
      "\n",
      "- <a id=\"networkx\">[5]</a> A. A. Hagberg, D. A. Schult, and P. J. Swart. \n",
      "Exploring network structure, dynamics, and function using NetworkX.\n",
      "*In Proceedings of the Python in Science Conference*,\n",
      "pages 11-15, 2008.\n",
      "<http://networkx.github.io>\n",
      "\n",
      "- <a id=\"pygraphviz\">[6]</a> A. A. Hagberg, D. A. Schult, and M. Renieris.\n",
      "PyGraphviz a Python interface to the Graphviz graph layout and visualization package.\n",
      "<http://networkx.lanl.gov/pygraphviz>\n",
      "\n",
      "- <a id=\"numpy\">[7]</a> E. Jones and T. Oliphant and P. Peterson and others.\n",
      "SciPy: Open source scientific tools for Python.\n",
      "<http://www.scipy.org>"
     ]
    },
    {
     "cell_type": "code",
     "collapsed": false,
     "input": [
      "# This makes things pretty\n",
      "from IPython.core.display import HTML\n",
      "def css_styling():\n",
      "    styles = open(\"styles/custom.css\", \"r\").read()\n",
      "    return HTML(styles)\n",
      "css_styling()"
     ],
     "language": "python",
     "metadata": {},
     "outputs": [
      {
       "html": [
        "<style>\n",
        "    @font-face {\n",
        "        font-family: \"Computer Modern\";\n",
        "        src: url('http://mirrors.ctan.org/fonts/cm-unicode/fonts/otf/cmunss.otf');\n",
        "    }\n",
        "    div.cell{\n",
        "        width:800px;\n",
        "        margin-left:16% !important;\n",
        "        margin-right:auto;\n",
        "    }\n",
        "    h1 {\n",
        "        font-family: Helvetica, serif;\n",
        "    }\n",
        "    h4{\n",
        "        margin-top:12px;\n",
        "        margin-bottom: 3px;\n",
        "       }\n",
        "    div.text_cell_render{\n",
        "        font-family: Computer Modern, \"Helvetica Neue\", Arial, Helvetica, Geneva, sans-serif;\n",
        "        line-height: 145%;\n",
        "        font-size: 130%;\n",
        "        width:800px;\n",
        "        margin-left:auto;\n",
        "        margin-right:auto;\n",
        "    }\n",
        "    .CodeMirror{\n",
        "            font-family: \"Source Code Pro\", source-code-pro,Consolas, monospace;\n",
        "    }\n",
        "    .prompt{\n",
        "        display: None;\n",
        "    }\n",
        "    .text_cell_render h5 {\n",
        "        font-weight: 300;\n",
        "        font-size: 16pt;\n",
        "        color: #4057A1;\n",
        "        font-style: italic;\n",
        "        margin-bottom: .5em;\n",
        "        margin-top: 0.5em;\n",
        "        display: block;\n",
        "    }\n",
        "    \n",
        "    .warning{\n",
        "        color: rgb( 240, 20, 20 )\n",
        "        }  \n",
        "</style>\n",
        "<script>\n",
        "    MathJax.Hub.Config({\n",
        "                        TeX: {\n",
        "                           extensions: [\"AMSmath.js\"]\n",
        "                           },\n",
        "                tex2jax: {\n",
        "                    inlineMath: [ ['$','$'], [\"\\\\(\",\"\\\\)\"] ],\n",
        "                    displayMath: [ ['$$','$$'], [\"\\\\[\",\"\\\\]\"] ]\n",
        "                },\n",
        "                displayAlign: 'center', // Change this to 'center' to center equations.\n",
        "                \"HTML-CSS\": {\n",
        "                    styles: {'.MathJax_Display': {\"margin\": 4}}\n",
        "                }\n",
        "        });\n",
        "</script>"
       ],
       "output_type": "pyout",
       "prompt_number": 29,
       "text": [
        "<IPython.core.display.HTML at 0x107118990>"
       ]
      }
     ],
     "prompt_number": 29
    }
   ],
   "metadata": {}
  }
 ]
}